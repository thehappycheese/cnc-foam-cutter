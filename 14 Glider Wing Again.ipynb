{
 "cells": [
  {
   "cell_type": "code",
   "execution_count": null,
   "id": "c673aa32",
   "metadata": {},
   "outputs": [],
   "source": [
    "from itertools import pairwise\n",
    "import pandas as pd\n",
    "import numpy as np\n",
    "import matplotlib.pyplot as plt\n",
    "from airfoil import (\n",
    "    Airfoil,\n",
    "    WingSegment,\n",
    "    Decomposer\n",
    ")\n",
    "from airfoil.wing import (\n",
    "    angle_degrees_to_slope,\n",
    "    mirror,\n",
    "    auto_piecewise,\n",
    "    auto_interpolate,\n",
    "    ellipse_quadrant,\n",
    "    calculated_wing_cube_loading,\n",
    "    calculate_wing_area,\n",
    "    create_airfoil_sampler,\n",
    ")\n",
    "from airfoil.util.linestring_helpers import resample_shapes\n",
    "import pyvista as pv"
   ]
  },
  {
   "cell_type": "code",
   "execution_count": null,
   "id": "f87712ad",
   "metadata": {},
   "outputs": [],
   "source": [
    "leading_edge = mirror(auto_piecewise([\n",
    "    (25, lambda x: 0),\n",
    "    (300, lambda x: -np.tan(np.deg2rad(5))*x),\n",
    "    (600, lambda x: -np.tan(np.deg2rad(3))*x),\n",
    "    (700, lambda x: -np.tan(np.deg2rad(3))*x+ellipse_quadrant(100,50,x))\n",
    "]))\n",
    "trailing_edge = mirror(auto_piecewise([\n",
    "    (25, lambda x: -100),\n",
    "    (150, lambda x: np.tan(np.deg2rad(5))*x-5),\n",
    "    (650, lambda x: np.tan(np.deg2rad(-2))*x),\n",
    "    (700, lambda x: np.tan(np.deg2rad(-2))*x-ellipse_quadrant(50,10,x))\n",
    "]))\n",
    "chord = lambda x: leading_edge(x)-trailing_edge(x)\n",
    "dihedral = mirror(auto_piecewise([\n",
    "    (25, lambda _: 0),\n",
    "    (500, lambda x: angle_degrees_to_slope(1)*x),\n",
    "    (700, lambda x: angle_degrees_to_slope(15)*x),\n",
    "]))\n",
    "thickness = mirror(auto_interpolate([\n",
    "    [  0, 0.13],\n",
    "    [150, 0.13],\n",
    "    [600, 0.10],\n",
    "    [700, 0.12],\n",
    "]))\n",
    "upper_surface = lambda x: dihedral(x)+thickness(x)/2 * chord(x)\n",
    "lower_surface = lambda x: dihedral(x)-thickness(x)/2 * chord(x)\n",
    "\n",
    "washout = mirror(auto_interpolate([\n",
    "    [  0,  0],\n",
    "    [150,  0],\n",
    "    [400, -2],\n",
    "    [700, -2],\n",
    "]))\n",
    "\n",
    "airfoil_transition = mirror(auto_interpolate([\n",
    "    [  0, 0],\n",
    "    [400, 0],\n",
    "    [500, 1],\n",
    "    [700, 1],\n",
    "])) "
   ]
  },
  {
   "cell_type": "code",
   "execution_count": null,
   "id": "3edff3f4",
   "metadata": {},
   "outputs": [],
   "source": [
    "fx63137 = pd.read_csv(\"./data/fx63137-il.csv\", dtype=pd.Float64Dtype())\n",
    "\n",
    "shape_a = lambda x: fx63137.values.astype(np.float32) * np.array([[1,thickness(x)/0.13]])\n",
    "shape_b = lambda x: Airfoil.from_naca4(\n",
    "    max_camber          = 0.02,\n",
    "    max_camber_position = 0.4,\n",
    "    max_thickness       = thickness(x),\n",
    "    chord_length        = 100,\n",
    ").points\n",
    "def _airfoil_shape(x:float):\n",
    "    _, shape_a_resampled, shape_b_resampled = resample_shapes([\n",
    "        shape_a(0),\n",
    "        shape_a(x),\n",
    "        shape_b(x),\n",
    "    ], deflection_angle_split_deg=90)\n",
    "    return airfoil_transition(x) * (shape_b_resampled - shape_a_resampled) + shape_a_resampled\n",
    "    # airfoil_shape_without_control = lambda x: x*(shape_b_resampled - shape_a_resampled) + shape_a_resampled\n",
    "airfoil_shape = mirror(_airfoil_shape)\n",
    "ax2:plt.Axes\n",
    "fig,ax= plt.subplots(figsize=(4,2))\n",
    "for xx in np.linspace(0,700,20):\n",
    "    shape = airfoil_shape(xx)\n",
    "    ax.plot(*shape.T)\n"
   ]
  },
  {
   "cell_type": "code",
   "execution_count": null,
   "id": "a5c6d3f6",
   "metadata": {},
   "outputs": [],
   "source": [
    "sections_at = np.array([\n",
    "    -25,\n",
    "    25,\n",
    "    150,\n",
    "    300,\n",
    "    400,\n",
    "    500,\n",
    "    600,\n",
    "    630,\n",
    "    660,\n",
    "    680,\n",
    "    690\n",
    "])"
   ]
  },
  {
   "cell_type": "code",
   "execution_count": null,
   "id": "a07a9537",
   "metadata": {},
   "outputs": [],
   "source": [
    "fig, (ax1, ax2) = plt.subplots(2,1, figsize=(15,4), sharex=True)\n",
    "\n",
    "x = np.linspace(-700,700,400)\n",
    "\n",
    "ax1.plot(x, np.array([leading_edge(xi) for xi in x]))\n",
    "ax1.plot(x, np.array([trailing_edge(xi) for xi in x]))\n",
    "ax1.set_aspect(\"equal\")\n",
    "\n",
    "# ax2.plot(x, np.array([upper_surface(xi) for xi in x]))\n",
    "# ax2.plot(x, np.array([lower_surface(xi) for xi in x]))\n",
    "# ax2.set_aspect(\"equal\")\n",
    "\n",
    "sar = (-sections_at)[1:][::-1].tolist()+sections_at[1:].tolist()\n",
    "ax2.plot(sar, np.array([airfoil_shape(xi)[:,1].max()/100*chord(xi)+dihedral(xi) for xi in sar]))\n",
    "ax2.plot(sar, np.array([airfoil_shape(xi)[:,1].min()/100*chord(xi)+dihedral(xi) for xi in sar]))\n",
    "ax2.set_aspect(\"equal\")\n",
    "\n",
    "for section in sections_at:\n",
    "    ax1.axvline(section,linestyle=\":\",c=\"r\",linewidth=1)\n",
    "\n",
    "#ax3.plot(x, np.array([washout(xi) for xi in x]))\n",
    "#ax3.set_aspect(\"equal\")\n",
    "#fig.tight_layout()"
   ]
  },
  {
   "cell_type": "code",
   "execution_count": null,
   "id": "784343ec",
   "metadata": {},
   "outputs": [],
   "source": [
    "wing_area = calculate_wing_area(\n",
    "    x,\n",
    "    np.array([leading_edge(xi) for xi in x]),\n",
    "    np.array([trailing_edge(xi) for xi in x]),\n",
    ")\n",
    "wing_area_m2 = wing_area/1000**2\n",
    "wing_span = np.max(x)-np.min(x)\n",
    "mean_chord = wing_area/wing_span\n",
    "aspect_ratio = wing_span/mean_chord\n",
    "\n",
    "mass_estimate = 1.0\n",
    "wing_cube_loading = calculated_wing_cube_loading(mass_estimate,wing_area_m2)\n",
    "\n",
    "print(f\"\"\"\n",
    "{wing_span=:.1f}\n",
    "{mean_chord=:.1f}\n",
    "{aspect_ratio=:.1f}\n",
    "{wing_area_m2=:.3f}\n",
    "{mass_estimate=:.1f} kg\n",
    "{wing_cube_loading=:.1f}\n",
    "\"\"\")"
   ]
  },
  {
   "cell_type": "code",
   "execution_count": null,
   "id": "5e6fccc3",
   "metadata": {},
   "outputs": [],
   "source": [
    "afs = create_airfoil_sampler(\n",
    "    airfoil =lambda x: Airfoil(airfoil_shape(x)),\n",
    "    leading_edge=leading_edge,\n",
    "    dihedral=dihedral,\n",
    "    chord=chord,\n",
    "    washout=washout,\n",
    "    rotation_center=lambda x: chord(x)*0.25\n",
    ")"
   ]
  },
  {
   "cell_type": "code",
   "execution_count": null,
   "id": "3aaf3c24",
   "metadata": {},
   "outputs": [],
   "source": [
    "\n",
    "fig,ax =plt.subplots(figsize=(20,10))\n",
    "#for x in np.linspace(0,690,25):\n",
    "for x in sections_at:\n",
    "    shp = afs(x)\n",
    "    shp.plot_raw(ax=ax)"
   ]
  },
  {
   "cell_type": "code",
   "execution_count": null,
   "id": "8f1f6f8f",
   "metadata": {},
   "outputs": [],
   "source": [
    "segments  = [\n",
    "    WingSegment(\n",
    "        afs(sla),\n",
    "        afs(slb),\n",
    "        slb-sla\n",
    "    ) for sla, slb in pairwise(sections_at[1:])\n",
    "]\n",
    "\n",
    "pt = pv.Plotter()\n",
    "o = 0\n",
    "volume = 0\n",
    "wing_meshes = []\n",
    "for segment in segments:\n",
    "    decomposer = Decomposer(split_angle_deg=90)\n",
    "    o += segment.length/2\n",
    "    msh = segment.to_mesh(decomposer)\n",
    "    volume+=msh.volume*2\n",
    "    wing_meshes.append(msh.translate([o,0,0]))\n",
    "    wing_meshes.append(msh.scale([-1,1,1]).translate([-o,0,0]).flip_faces())\n",
    "    o += segment.length/2\n",
    "#pt.enable_eye_dome_lighting()\n",
    "#wing_mesh = wing_meshes[0]\n",
    "for m in wing_meshes:\n",
    "    pt.add_mesh(m.rotate_x(-4).translate((0,0,60)))\n",
    "    #wing_mesh+=m\n",
    "pt.add_mesh(pv.Cylinder((0,500,0),direction=(0,1,0),radius=8,height=1000).translate((0,-180,0)))\n",
    "pt.show()"
   ]
  },
  {
   "cell_type": "code",
   "execution_count": null,
   "id": "c4868a47",
   "metadata": {},
   "outputs": [],
   "source": [
    "pt.export_gltf(\"./data/outputs/2025 06 20 Glider wing Design Again.gltf\")"
   ]
  },
  {
   "cell_type": "code",
   "execution_count": 13,
   "id": "1caa9f2a",
   "metadata": {},
   "outputs": [
    {
     "data": {
      "text/plain": [
       "2"
      ]
     },
     "execution_count": 13,
     "metadata": {},
     "output_type": "execute_result"
    }
   ],
   "source": [
    "1+1"
   ]
  },
  {
   "cell_type": "code",
   "execution_count": null,
   "id": "1a723092",
   "metadata": {},
   "outputs": [],
   "source": []
  }
 ],
 "metadata": {
  "kernelspec": {
   "display_name": ".venv",
   "language": "python",
   "name": "python3"
  },
  "language_info": {
   "codemirror_mode": {
    "name": "ipython",
    "version": 3
   },
   "file_extension": ".py",
   "mimetype": "text/x-python",
   "name": "python",
   "nbconvert_exporter": "python",
   "pygments_lexer": "ipython3",
   "version": "3.13.4"
  }
 },
 "nbformat": 4,
 "nbformat_minor": 5
}
