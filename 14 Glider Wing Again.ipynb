{
 "cells": [
  {
   "cell_type": "code",
   "execution_count": null,
   "id": "c673aa32",
   "metadata": {},
   "outputs": [],
   "source": [
    "import pandas as pd\n",
    "import numpy as np\n",
    "import matplotlib.pyplot as plt\n",
    "from airfoil import (\n",
    "    Airfoil\n",
    ")\n",
    "from airfoil.wing import (\n",
    "    angle_degrees_to_slope,\n",
    "    mirror,\n",
    "    auto_piecewise,\n",
    "    auto_interpolate,\n",
    "    ellipse_quadrant,\n",
    "    calculated_wing_cube_loading,\n",
    "    calculate_wing_area,\n",
    ")\n",
    "from airfoil.util.linestring_helpers import resample_shapes"
   ]
  },
  {
   "cell_type": "code",
   "execution_count": null,
   "id": "f87712ad",
   "metadata": {},
   "outputs": [],
   "source": [
    "leading_edge = mirror(auto_piecewise([\n",
    "    (25, lambda x: 0),\n",
    "    (300, lambda x: -np.tan(np.deg2rad(5))*x),\n",
    "    (600, lambda x: -np.tan(np.deg2rad(3))*x),\n",
    "    (700, lambda x: -np.tan(np.deg2rad(3))*x+ellipse_quadrant(100,50,x))\n",
    "]))\n",
    "trailing_edge = mirror(auto_piecewise([\n",
    "    (25, lambda x: -100),\n",
    "    (150, lambda x: np.tan(np.deg2rad(5))*x-5),\n",
    "    (650, lambda x: np.tan(np.deg2rad(-2))*x),\n",
    "    (700, lambda x: np.tan(np.deg2rad(-2))*x-ellipse_quadrant(50,10,x))\n",
    "]))\n",
    "chord = lambda x: leading_edge(x)-trailing_edge(x)\n",
    "dihedral = mirror(auto_piecewise([\n",
    "    (25, lambda _: 0),\n",
    "    (500, lambda x: angle_degrees_to_slope(1)*x),\n",
    "    (700, lambda x: angle_degrees_to_slope(15)*x),\n",
    "]))\n",
    "thickness = mirror(auto_interpolate([\n",
    "    [  0, 0.15],\n",
    "    [150, 0.15],\n",
    "    [600, 0.09],\n",
    "    [700, 0.15],\n",
    "]))\n",
    "upper_surface = lambda x: dihedral(x)+thickness(x)/2 * chord(x)\n",
    "lower_surface = lambda x: dihedral(x)-thickness(x)/2 * chord(x)\n",
    "\n",
    "washout = mirror(auto_interpolate([\n",
    "    [  0, 3],\n",
    "    [150, 3],\n",
    "    [400, 0],\n",
    "    [700, 0],\n",
    "]))"
   ]
  },
  {
   "cell_type": "code",
   "execution_count": null,
   "id": "3edff3f4",
   "metadata": {},
   "outputs": [],
   "source": [
    "xy = pd.read_csv(\"./data/fx63137-il.csv\", dtype=pd.Float64Dtype())\n",
    "\n",
    "shape_a = xy.values.astype(np.float32)\n",
    "shape_b = Airfoil.from_naca_designation(\"2412\",100).points\n",
    "a1,b1 = resample_shapes([\n",
    "    shape_a,\n",
    "    shape_b,\n",
    "], deflection_angle_split_deg=90,)\n",
    "\n",
    "airfoil_shape = lambda x: x/700 * (b1-a1)+a1\n",
    "ax2:plt.Axes\n",
    "fig,(ax,ax2) = plt.subplots(2)\n",
    "for xx in np.linspace(0,700,5):\n",
    "    shape = airfoil_shape(xx)\n",
    "    ax.plot(*shape.T)\n",
    "ax2.plot(*a1.T,\"o\",markersize=2)\n",
    "ax2.plot(*b1.T,\"o\",markersize=2)\n",
    "for aa,bb in zip(a1,b1):\n",
    "    ax2.add_line(plt.Line2D([aa[0],bb[0]],[aa[1],bb[1]]))"
   ]
  },
  {
   "cell_type": "code",
   "execution_count": null,
   "id": "a07a9537",
   "metadata": {},
   "outputs": [],
   "source": [
    "fig, (ax1,ax2, ax3) = plt.subplots(3,1, figsize=(15,4))\n",
    "x = np.linspace(-700,700,600)\n",
    "y1 = np.array([leading_edge(xi) for xi in x])\n",
    "y2 = np.array([trailing_edge(xi) for xi in x])\n",
    "ax1.plot(x,y1)\n",
    "ax1.plot(x,y2)\n",
    "ax1.set_aspect(\"equal\")\n",
    "\n",
    "ax2.plot(x, np.array([upper_surface(xi) for xi in x]))\n",
    "ax2.plot(x, np.array([lower_surface(xi) for xi in x]))\n",
    "ax2.set_aspect(\"equal\")\n",
    "\n",
    "ax3.plot(x, np.array([washout(xi) for xi in x]))\n",
    "#ax3.set_aspect(\"equal\")"
   ]
  },
  {
   "cell_type": "code",
   "execution_count": null,
   "id": "784343ec",
   "metadata": {},
   "outputs": [],
   "source": [
    "wing_area = calculate_wing_area(x, y1,y2)\n",
    "wing_area_m2 = wing_area/1000**2\n",
    "wing_span = np.max(x)-np.min(x)\n",
    "mean_chord = wing_area/wing_span\n",
    "aspect_ratio = wing_span/mean_chord\n",
    "\n",
    "mass_estimate = 1.5\n",
    "wing_cube_loading = calculated_wing_cube_loading(1.5,wing_area_m2)\n",
    "\n",
    "print(f\"\"\"\n",
    "{wing_span=:.1f}\n",
    "{mean_chord=:.1f}\n",
    "{aspect_ratio=:.1f}\n",
    "{wing_area_m2=:.3f}\n",
    "{mass_estimate=:.1f} kg\n",
    "{wing_cube_loading=:.1f}\n",
    "\"\"\")"
   ]
  },
  {
   "cell_type": "code",
   "execution_count": null,
   "id": "b808aa51",
   "metadata": {},
   "outputs": [],
   "source": [
    "\n",
    "from typing import Callable\n",
    "def create_airfoil_sampler(\n",
    "    points          : Callable[[float],np.ndarray],\n",
    "    leading_edge    : Callable[[float],float],\n",
    "    dihedral        : Callable[[float],float],\n",
    "    chord           : Callable[[float],float],\n",
    "    washout         : Callable[[float],float],\n",
    "    rotation_center : Callable[[float],float],\n",
    "\n",
    ")->Airfoil:\n",
    "    return lambda x: (\n",
    "        Airfoil(points(x)/100*chord(x))\n",
    "        .with_translation((-rotation_center(x),0))\n",
    "        .with_rotation(washout(x))\n",
    "        .with_translation((rotation_center(x),0))\n",
    "        .with_translation((-leading_edge(x), dihedral(x)))\n",
    "    )"
   ]
  },
  {
   "cell_type": "code",
   "execution_count": null,
   "id": "5e6fccc3",
   "metadata": {},
   "outputs": [],
   "source": [
    "afs = create_airfoil_sampler(\n",
    "    points = airfoil_shape,\n",
    "    leading_edge=leading_edge,\n",
    "    dihedral=dihedral,\n",
    "    chord=chord,\n",
    "    washout=washout,\n",
    "    rotation_center=lambda x: chord(x)*0.25\n",
    ")"
   ]
  },
  {
   "cell_type": "code",
   "execution_count": null,
   "id": "3aaf3c24",
   "metadata": {},
   "outputs": [],
   "source": [
    "\n",
    "fig,ax =plt.subplots(figsize=(20,10))\n",
    "for x in np.linspace(0,690,15):\n",
    "    shp = afs(x)\n",
    "    shp.plot_raw(ax=ax)"
   ]
  },
  {
   "cell_type": "code",
   "execution_count": null,
   "id": "8f1f6f8f",
   "metadata": {},
   "outputs": [],
   "source": []
  }
 ],
 "metadata": {
  "kernelspec": {
   "display_name": ".venv",
   "language": "python",
   "name": "python3"
  },
  "language_info": {
   "codemirror_mode": {
    "name": "ipython",
    "version": 3
   },
   "file_extension": ".py",
   "mimetype": "text/x-python",
   "name": "python",
   "nbconvert_exporter": "python",
   "pygments_lexer": "ipython3",
   "version": "3.13.4"
  }
 },
 "nbformat": 4,
 "nbformat_minor": 5
}
