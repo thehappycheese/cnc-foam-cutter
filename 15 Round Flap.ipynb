{
 "cells": [
  {
   "cell_type": "code",
   "execution_count": null,
   "id": "f548f8a3",
   "metadata": {},
   "outputs": [],
   "source": [
    "from airfoil import Airfoil, Hinge, Hole, Decomposer\n",
    "import shapely as sh\n",
    "import numpy as np\n",
    "\n",
    "from airfoil.util.shapely_helpers import plot_shapely_directional"
   ]
  },
  {
   "cell_type": "code",
   "execution_count": null,
   "id": "88f21bde",
   "metadata": {},
   "outputs": [],
   "source": [
    "af = Airfoil.from_naca_designation(\"23012\", chord_length=100)\n",
    "af.plot()"
   ]
  },
  {
   "cell_type": "code",
   "execution_count": null,
   "id": "670f36ea",
   "metadata": {},
   "outputs": [],
   "source": [
    "lp = af.polygon().intersection(sh.LineString([[80,-50],[80,50]]))\n",
    "h  = np.diff(np.array(lp.bounds)[1::2])[0]\n",
    "th = 0.5\n",
    "r  = h*0.5+th/2\n",
    "p = sh.difference(\n",
    "    sh.Point(0,0).buffer(r+th/2),\n",
    "    sh.Point(0,0).buffer(r-th/2),\n",
    ")\n",
    "p = sh.difference(p, sh.box(0,-500,500,500))\n",
    "p  = sh.affinity.translate(p, lp.centroid.x, lp.centroid.y)\n",
    "\n",
    "ax = plot_shapely_directional([sh.difference(af.polygon(),p)])\n",
    "ax.figure.set_size_inches(20,15)"
   ]
  },
  {
   "cell_type": "code",
   "execution_count": null,
   "id": "e6df31d7",
   "metadata": {},
   "outputs": [],
   "source": [
    "af = (\n",
    "    Airfoil.from_naca_designation(\"23012\", chord_length=100)\n",
    "    .with_hinge(Hinge((80,0), height=10),upper_thickness=2)\n",
    "    .with_holes([Hole(8,(20,2))])\n",
    ")\n",
    "ax=af.plot_raw(\n",
    "    show_holes=True,\n",
    "    show_hinge=True,\n",
    ")\n",
    "ax.set_title(\"af.plot_raw( show_holes=True, show_hinge=True )\")\n",
    "ax, l=af.plot(decomposer=Decomposer(split_angle_deg=30))\n",
    "ax.set_title(\"af.plot()\")"
   ]
  },
  {
   "cell_type": "code",
   "execution_count": null,
   "id": "a13fd83d",
   "metadata": {},
   "outputs": [],
   "source": []
  }
 ],
 "metadata": {
  "kernelspec": {
   "display_name": ".venv",
   "language": "python",
   "name": "python3"
  },
  "language_info": {
   "codemirror_mode": {
    "name": "ipython",
    "version": 3
   },
   "file_extension": ".py",
   "mimetype": "text/x-python",
   "name": "python",
   "nbconvert_exporter": "python",
   "pygments_lexer": "ipython3",
   "version": "3.13.4"
  }
 },
 "nbformat": 4,
 "nbformat_minor": 5
}
