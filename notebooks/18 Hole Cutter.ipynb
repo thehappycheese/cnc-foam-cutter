{
 "cells": [
  {
   "cell_type": "code",
   "execution_count": null,
   "id": "f023bf5c",
   "metadata": {},
   "outputs": [],
   "source": [
    "from airfoil.cnc import CNC\n",
    "from airfoil.util.linestring_helpers import (\n",
    "    split_and_roll,\n",
    "    resample_linear_to_segment_length,\n",
    ")\n",
    "from airfoil.util.shapely_helpers import (\n",
    "    plot_shapely_directional\n",
    ")\n",
    "import numpy as np\n",
    "import shapely as sh\n",
    "import time"
   ]
  },
  {
   "cell_type": "code",
   "execution_count": null,
   "id": "e7cb7436",
   "metadata": {},
   "outputs": [],
   "source": [
    "circle = sh.Point(0,-20).buffer(3.7)\n",
    "circle = np.array(circle.exterior.coords)\n",
    "circle = sh.LineString(resample_linear_to_segment_length(\n",
    "    split_and_roll(circle,np.argmax(circle[:,1])),\n",
    "    desired_segment_length=1\n",
    "))\n",
    "plunge = sh.LineString([\n",
    "    [0,  0],\n",
    "    [0,-20]\n",
    "])\n",
    "exit = sh.LineString([\n",
    "    circle.coords[0],\n",
    "    [0,  0],\n",
    "])\n",
    "\n",
    "plot_shapely_directional([plunge, circle,exit],legend=[\"plunge\",\"circle\",\"exit\"])"
   ]
  },
  {
   "cell_type": "code",
   "execution_count": null,
   "id": "1d851ecc",
   "metadata": {},
   "outputs": [],
   "source": [
    "from dataclasses import dataclass\n",
    "@dataclass\n",
    "class OP:\n",
    "    move:np.ndarray\n",
    "    current:float\n",
    "    speed:int\n",
    "    pause_after_ms:float         = 0\n",
    "    pause_after_current:float = 0\n",
    "ops = [\n",
    "    OP(\n",
    "        move = np.array(plunge.coords),\n",
    "        current = 2.5,\n",
    "        speed = 400,\n",
    "        pause_after_ms = 500,\n",
    "        pause_after_current = 1.0,\n",
    "    ),\n",
    "    OP(\n",
    "        move = np.array(circle.coords),\n",
    "        current = 1.8,\n",
    "        speed = 200,\n",
    "    ),\n",
    "    OP(\n",
    "        move = np.array(circle.coords),\n",
    "        current = 1.8,\n",
    "        speed = 300,\n",
    "        pause_after_ms = 50,\n",
    "        pause_after_current = 0,\n",
    "    ),\n",
    "    OP(\n",
    "        move = np.array(exit.coords),\n",
    "        current = 2.5,\n",
    "        speed = 400,\n",
    "        pause_after_ms = 500,\n",
    "        pause_after_current = 2.0,\n",
    "    ),\n",
    "    OP(\n",
    "        move = np.array([]),\n",
    "        current = 0,\n",
    "        speed = 300,\n",
    "        pause_after_ms = 0,\n",
    "        pause_after_current = 0,\n",
    "    ),\n",
    "]"
   ]
  },
  {
   "cell_type": "code",
   "execution_count": null,
   "id": "36029ece",
   "metadata": {},
   "outputs": [],
   "source": [
    "def current_to_spindle(current:float):\n",
    "    return max(0,min(4.0,current))/4 *80 + 10\n"
   ]
  },
  {
   "cell_type": "code",
   "execution_count": null,
   "id": "bd26b798",
   "metadata": {},
   "outputs": [],
   "source": [
    "gcode:list[str] = []\n",
    "for op in ops:\n",
    "    gcode.append(f\"M3 S{current_to_spindle(op.current):.2f}\")\n",
    "    speed = op.speed*np.sqrt(2)\n",
    "    for x,y in op.move:\n",
    "        gcode.append(f\"G1 F{speed:.0f} X{x:.2f} Y{y:.2f} Z{x:.2f} A{y:.2f}\")\n",
    "    if op.pause_after_ms>0:\n",
    "        gcode.append(f\"M3 S{current_to_spindle(op.pause_after_current):.2f}\")\n",
    "        gcode.append(f\"G4 P{op.pause_after_ms/1000:.3f}\")\n",
    "gcode.append(f\"M3 S0\")\n",
    "with open(\"ffsake.gcode\", \"w\", encoding=\"ascii\") as f:\n",
    "    f.write(\"\\r\\n\".join([\"G90\",]+gcode)+\"\\r\\n\")\n",
    "gcode"
   ]
  },
  {
   "cell_type": "code",
   "execution_count": null,
   "id": "8fb2cc10",
   "metadata": {},
   "outputs": [],
   "source": [
    "cnc = CNC()"
   ]
  },
  {
   "cell_type": "code",
   "execution_count": null,
   "id": "2564a442",
   "metadata": {},
   "outputs": [],
   "source": [
    "cnc.alarm_soft_reset()\n",
    "cnc.alarm_clear()"
   ]
  },
  {
   "cell_type": "code",
   "execution_count": null,
   "id": "d4474fb9",
   "metadata": {},
   "outputs": [],
   "source": [
    "cnc.home()\n",
    "cnc.set_position(0,0,0,0)"
   ]
  },
  {
   "cell_type": "code",
   "execution_count": null,
   "id": "fc861ebe",
   "metadata": {},
   "outputs": [],
   "source": [
    "cnc.relative()\n",
    "cnc.travel(\n",
    "    100,180,\n",
    "    100,180,\n",
    ")"
   ]
  },
  {
   "cell_type": "code",
   "execution_count": null,
   "id": "96fa586a",
   "metadata": {},
   "outputs": [],
   "source": [
    "cnc.absolute()\n",
    "cnc.travel(0,0,0,0)"
   ]
  },
  {
   "cell_type": "code",
   "execution_count": null,
   "id": "95e68cef",
   "metadata": {},
   "outputs": [],
   "source": [
    "cnc.read_all()"
   ]
  },
  {
   "cell_type": "code",
   "execution_count": null,
   "id": "b6526609",
   "metadata": {},
   "outputs": [],
   "source": [
    "cnc.relative()\n",
    "cnc.travel(0,0,0,0)"
   ]
  },
  {
   "cell_type": "code",
   "execution_count": null,
   "id": "226176b3",
   "metadata": {},
   "outputs": [],
   "source": [
    "cnc.absolute()\n",
    "cnc.set_position(0,0,0,0)\n",
    "result = cnc.send_gcode_lines(gcode)"
   ]
  },
  {
   "cell_type": "code",
   "execution_count": null,
   "id": "eec6e72f",
   "metadata": {},
   "outputs": [],
   "source": [
    "print(result)"
   ]
  },
  {
   "cell_type": "code",
   "execution_count": null,
   "id": "f728d1d2",
   "metadata": {},
   "outputs": [],
   "source": [
    "cnc.relative()\n",
    "\n",
    "cnc.feed(100,0,20,0,20)\n",
    "cnc.serial.write(\"M3 S0\\r\\n\".encode(\"ascii\"))"
   ]
  },
  {
   "cell_type": "code",
   "execution_count": null,
   "id": "124a2822",
   "metadata": {},
   "outputs": [],
   "source": [
    "cnc.serial.write(\"M3 S0\\r\\n\".encode(\"ascii\"))"
   ]
  },
  {
   "cell_type": "code",
   "execution_count": null,
   "id": "dfc73c00",
   "metadata": {},
   "outputs": [],
   "source": [
    "#cnc.alarm_soft_reset()\n",
    "cnc.alarm_clear()"
   ]
  },
  {
   "cell_type": "code",
   "execution_count": null,
   "id": "b263778b",
   "metadata": {},
   "outputs": [],
   "source": [
    "output"
   ]
  },
  {
   "cell_type": "code",
   "execution_count": null,
   "id": "4f274c24",
   "metadata": {},
   "outputs": [],
   "source": [
    "cnc.status()"
   ]
  }
 ],
 "metadata": {
  "kernelspec": {
   "display_name": ".venv",
   "language": "python",
   "name": "python3"
  },
  "language_info": {
   "codemirror_mode": {
    "name": "ipython",
    "version": 3
   },
   "file_extension": ".py",
   "mimetype": "text/x-python",
   "name": "python",
   "nbconvert_exporter": "python",
   "pygments_lexer": "ipython3",
   "version": "3.13.3"
  }
 },
 "nbformat": 4,
 "nbformat_minor": 5
}
