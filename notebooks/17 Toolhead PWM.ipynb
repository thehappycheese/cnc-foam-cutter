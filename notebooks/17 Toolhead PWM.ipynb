{
 "cells": [
  {
   "cell_type": "code",
   "execution_count": null,
   "id": "8d8eec9f",
   "metadata": {},
   "outputs": [],
   "source": [
    "from airfoil.cnc import CNC\n",
    "import numpy as np"
   ]
  },
  {
   "cell_type": "code",
   "execution_count": null,
   "id": "a4dd9820",
   "metadata": {},
   "outputs": [],
   "source": [
    "cnc = CNC(timeout=0.5)"
   ]
  },
  {
   "cell_type": "code",
   "execution_count": null,
   "id": "98e3b4f8",
   "metadata": {},
   "outputs": [],
   "source": [
    "cnc.status()"
   ]
  },
  {
   "cell_type": "code",
   "execution_count": null,
   "id": "031c3178",
   "metadata": {},
   "outputs": [],
   "source": [
    "cnc.serial.readall()"
   ]
  },
  {
   "cell_type": "code",
   "execution_count": null,
   "id": "a7bce2f3",
   "metadata": {},
   "outputs": [],
   "source": [
    "cnc.alarm_soft_reset()\n",
    "cnc.alarm_clear()"
   ]
  },
  {
   "cell_type": "code",
   "execution_count": null,
   "id": "a5ccdea9",
   "metadata": {},
   "outputs": [],
   "source": [
    "cnc.serial.write(f\"M3 S16\\r\\n\".encode(\"ascii\"))"
   ]
  },
  {
   "cell_type": "code",
   "execution_count": null,
   "id": "3cfaa21a",
   "metadata": {},
   "outputs": [],
   "source": [
    "cnc.serial.readall()"
   ]
  },
  {
   "cell_type": "code",
   "execution_count": null,
   "id": "24e24713",
   "metadata": {},
   "outputs": [],
   "source": [
    "#cnc.serial.write(b\"M3 S1000\\r\\n\")\n",
    "import time\n",
    "for i in np.arange(20,80):\n",
    "    cnc.serial.write(f\"M3 S{i}\\r\\n\".encode(\"ascii\"))\n",
    "    time.sleep(0.01)\n"
   ]
  },
  {
   "cell_type": "code",
   "execution_count": null,
   "id": "be8c3869",
   "metadata": {},
   "outputs": [],
   "source": [
    "cnc.serial.write(b\"M5\\r\\n\")"
   ]
  },
  {
   "cell_type": "code",
   "execution_count": null,
   "id": "a30f5946",
   "metadata": {},
   "outputs": [],
   "source": [
    "cnc.read_all()"
   ]
  },
  {
   "cell_type": "code",
   "execution_count": null,
   "id": "b1c4e91b",
   "metadata": {},
   "outputs": [],
   "source": []
  }
 ],
 "metadata": {
  "kernelspec": {
   "display_name": ".venv",
   "language": "python",
   "name": "python3"
  },
  "language_info": {
   "codemirror_mode": {
    "name": "ipython",
    "version": 3
   },
   "file_extension": ".py",
   "mimetype": "text/x-python",
   "name": "python",
   "nbconvert_exporter": "python",
   "pygments_lexer": "ipython3",
   "version": "3.13.3"
  }
 },
 "nbformat": 4,
 "nbformat_minor": 5
}
