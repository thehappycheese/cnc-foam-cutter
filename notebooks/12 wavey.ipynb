{
 "cells": [
  {
   "cell_type": "code",
   "execution_count": null,
   "id": "7dafc6c9",
   "metadata": {},
   "outputs": [],
   "source": [
    "from airfoil.cnc import CNC\n",
    "import numpy as np\n",
    "import matplotlib.pyplot as plt"
   ]
  },
  {
   "cell_type": "code",
   "execution_count": null,
   "id": "b2735529",
   "metadata": {},
   "outputs": [],
   "source": [
    "offset = 20\n",
    "n = 1000\n",
    "\n",
    "x = np.linspace(0,150,n)+offset\n",
    "y = np.sin((x-offset)*np.pi*2/150*8)*5\n",
    "speed = np.linspace(150,450,n)\n",
    "\n",
    "\n",
    "x = np.concat([[0],x,[200]])\n",
    "y = np.concat([[0],y,[0]])\n",
    "speed = np.concat([[500], speed, [500]])\n",
    "\n",
    "plt.plot(x,y)\n",
    "plt.gca().set_aspect(\"equal\")"
   ]
  },
  {
   "cell_type": "code",
   "execution_count": null,
   "id": "904d1fe9",
   "metadata": {},
   "outputs": [],
   "source": [
    "commands = np.concat([\n",
    "    speed.reshape(-1,1),\n",
    "    x.reshape(-1,1),\n",
    "    y.reshape(-1,1),\n",
    "    x.reshape(-1,1),\n",
    "    y.reshape(-1,1),\n",
    "],axis=1)\n",
    "commands"
   ]
  },
  {
   "cell_type": "code",
   "execution_count": null,
   "id": "088e6868",
   "metadata": {},
   "outputs": [],
   "source": [
    "cnc = CNC()"
   ]
  },
  {
   "cell_type": "code",
   "execution_count": null,
   "id": "54a078fc",
   "metadata": {},
   "outputs": [],
   "source": [
    "cnc.alarm_clear()\n",
    "cnc.alarm_soft_reset()"
   ]
  },
  {
   "cell_type": "code",
   "execution_count": null,
   "id": "abbf650f",
   "metadata": {},
   "outputs": [],
   "source": [
    "cnc.home()"
   ]
  },
  {
   "cell_type": "code",
   "execution_count": null,
   "id": "38d87ece",
   "metadata": {},
   "outputs": [],
   "source": [
    "cnc.set_position(0,0,0,0)\n",
    "cnc.absolute()"
   ]
  },
  {
   "cell_type": "code",
   "execution_count": null,
   "id": "4382daff",
   "metadata": {},
   "outputs": [],
   "source": [
    "cnc.travel(0,0,0,0)"
   ]
  },
  {
   "cell_type": "code",
   "execution_count": null,
   "id": "6954af8b",
   "metadata": {},
   "outputs": [],
   "source": [
    "cnc.relative()"
   ]
  },
  {
   "cell_type": "code",
   "execution_count": null,
   "id": "563deb80",
   "metadata": {},
   "outputs": [],
   "source": [
    "cnc.feed(200,0,100,0,100)"
   ]
  },
  {
   "cell_type": "code",
   "execution_count": null,
   "id": "cbbc16f3",
   "metadata": {},
   "outputs": [],
   "source": [
    "cnc.send_g1_commands(commands)"
   ]
  }
 ],
 "metadata": {
  "kernelspec": {
   "display_name": ".venv",
   "language": "python",
   "name": "python3"
  },
  "language_info": {
   "codemirror_mode": {
    "name": "ipython",
    "version": 3
   },
   "file_extension": ".py",
   "mimetype": "text/x-python",
   "name": "python",
   "nbconvert_exporter": "python",
   "pygments_lexer": "ipython3",
   "version": "3.13.3"
  }
 },
 "nbformat": 4,
 "nbformat_minor": 5
}
