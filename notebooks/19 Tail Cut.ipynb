{
 "cells": [
  {
   "cell_type": "code",
   "execution_count": null,
   "id": "3cca0e62",
   "metadata": {},
   "outputs": [],
   "source": [
    "from airfoil.cnc import GCodeBuilder as gcb, CNC\n",
    "from airfoil.util.shapely_helpers import plot_shapely_directional\n",
    "from airfoil.util.linestring_helpers import (\n",
    "    split_and_roll_at_top_right,\n",
    "    ensure_closed,\n",
    "    deflection_angle_padded,\n",
    "    deflection_angle,\n",
    "    split_and_roll,\n",
    "    resample_long_segments\n",
    ")\n",
    "from airfoil.wing import (\n",
    "    auto_interpolate\n",
    ")\n",
    "from airfoil.util.array_helpers import map_to_range\n",
    "from airfoil import Airfoil\n",
    "\n",
    "import shapely as sh\n",
    "import numpy as np"
   ]
  },
  {
   "cell_type": "code",
   "execution_count": null,
   "id": "77039ce7",
   "metadata": {},
   "outputs": [],
   "source": [
    "af = Airfoil.from_naca_designation(\"0012\", chord_length=100)\n",
    "af.plot_raw()"
   ]
  },
  {
   "cell_type": "code",
   "execution_count": null,
   "id": "57521675",
   "metadata": {},
   "outputs": [],
   "source": [
    "thickness = 10\n",
    "taper     = 100\n",
    "sh_top = sh.LineString(resample_long_segments(np.array([\n",
    "    ( -5,  thickness),\n",
    "    (  0,  thickness),\n",
    "    ( taper, 25),\n",
    "    ( taper, 30),\n",
    "]),1))\n",
    "sh_bottom = sh.LineString(resample_long_segments(np.array([\n",
    "    (-5,-thickness),\n",
    "    ( 0,-thickness),\n",
    "    (taper,-25),\n",
    "    (taper,-30),\n",
    "]),1))"
   ]
  },
  {
   "cell_type": "code",
   "execution_count": null,
   "id": "321c8c72",
   "metadata": {},
   "outputs": [],
   "source": [
    "thickness = 10\n",
    "taper     = 100\n",
    "sh_top = sh.LineString(resample_long_segments(np.array([\n",
    "    ( -5,  thickness),\n",
    "    (  0,  thickness),\n",
    "    ( taper, 35),\n",
    "    ( taper, 40),\n",
    "]),1))\n",
    "sh_bottom = sh.LineString(resample_long_segments(np.array([\n",
    "    (-5,-thickness),\n",
    "    ( 0,-thickness),\n",
    "    (taper,-15),\n",
    "    (taper,-30),\n",
    "]),1))"
   ]
  },
  {
   "cell_type": "code",
   "execution_count": null,
   "id": "f1720bc5",
   "metadata": {},
   "outputs": [],
   "source": [
    "afp = sh.Polygon(af.with_rotation(180).with_translation((60,0)).points)\n",
    "afp = sh.difference(\n",
    "    afp,\n",
    "    sh.box(\n",
    "        -500,-500,\n",
    "        -5  , 500\n",
    "    )\n",
    ").buffer(-0.1)\n",
    "afc:np.ndarray = np.array(afp.exterior.coords)\n",
    "afc = split_and_roll(afc, np.argmax(afc[:,1]-afc[:,0]))\n",
    "afc=afc[1:]\n",
    "afc=afc[::-1]\n",
    "plot_shapely_directional([sh.LineString(afc),sh_top,sh_bottom],legend=[\"afc\",\"top\",\"bottom\"])"
   ]
  },
  {
   "cell_type": "code",
   "execution_count": null,
   "id": "9bd3c0d3",
   "metadata": {},
   "outputs": [],
   "source": [
    "cnc = CNC()"
   ]
  },
  {
   "cell_type": "code",
   "execution_count": null,
   "id": "d10bc791",
   "metadata": {},
   "outputs": [],
   "source": [
    "def compute_speed(curve:np.ndarray, min_mm_per_sec:float=110, max_mm_per_sec:float=180):\n",
    "    return map_to_range(\n",
    "        np.pad(deflection_angle(curve),(0,1),mode=\"edge\"),\n",
    "        max_mm_per_sec,\n",
    "        min_mm_per_sec,\n",
    "    )"
   ]
  },
  {
   "cell_type": "code",
   "execution_count": null,
   "id": "b944bab2",
   "metadata": {},
   "outputs": [],
   "source": [
    "cnc.travel(0,0,0,0)"
   ]
  },
  {
   "cell_type": "code",
   "execution_count": null,
   "id": "36b9d92b",
   "metadata": {},
   "outputs": [],
   "source": [
    "cnc.relative()\n",
    "cnc.travel(\n",
    "    -10,-2,\n",
    "    -10,-2,\n",
    ")"
   ]
  },
  {
   "cell_type": "code",
   "execution_count": null,
   "id": "aa7c033c",
   "metadata": {},
   "outputs": [],
   "source": [
    "cnc.alarm_soft_reset()\n",
    "cnc.alarm_clear()"
   ]
  },
  {
   "cell_type": "code",
   "execution_count": null,
   "id": "ccdc3e2d",
   "metadata": {},
   "outputs": [],
   "source": [
    "cnc.home()"
   ]
  },
  {
   "cell_type": "code",
   "execution_count": null,
   "id": "149742d6",
   "metadata": {},
   "outputs": [],
   "source": [
    "\n",
    "gc = (\n",
    "    gcb()\n",
    "    .set_position(0,0,0,0)\n",
    "    .absolute()\n",
    "    .set_current(1.85)\n",
    "    .path_absolute(\n",
    "        xyza     = np.tile(sh_top.coords,(1,2)),\n",
    "        feedrate = compute_speed(sh_top.coords)\n",
    "    )\n",
    "    .travel(-5,30,-5,30)\n",
    "    .path_absolute(\n",
    "        xyza     = np.tile(sh_bottom.coords,(1,2)),\n",
    "        feedrate = compute_speed(sh_bottom.coords)\n",
    "    )\n",
    "    .travel(-5,-30,-5,-30)\n",
    "    .path_absolute(\n",
    "        xyza     = np.tile(afc,(1,2)),\n",
    "        feedrate = compute_speed(afc)\n",
    "    )\n",
    "    .set_current(0)\n",
    "    .travel(-5,-25,-5,-25)\n",
    ")\n",
    "cnc.send_gcode_lines(gc.lines)\n",
    "gc.lines"
   ]
  },
  {
   "cell_type": "code",
   "execution_count": null,
   "id": "30555d20",
   "metadata": {},
   "outputs": [],
   "source": []
  }
 ],
 "metadata": {
  "kernelspec": {
   "display_name": ".venv (3.13.3)",
   "language": "python",
   "name": "python3"
  },
  "language_info": {
   "codemirror_mode": {
    "name": "ipython",
    "version": 3
   },
   "file_extension": ".py",
   "mimetype": "text/x-python",
   "name": "python",
   "nbconvert_exporter": "python",
   "pygments_lexer": "ipython3",
   "version": "3.13.3"
  }
 },
 "nbformat": 4,
 "nbformat_minor": 5
}
