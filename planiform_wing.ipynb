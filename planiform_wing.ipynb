{
 "cells": [
  {
   "cell_type": "code",
   "execution_count": null,
   "id": "1385dd3b",
   "metadata": {},
   "outputs": [],
   "source": [
    "import numpy as np\n",
    "import matplotlib.pyplot as plt\n",
    "from util.airfoil import Airfoil, Hole"
   ]
  },
  {
   "cell_type": "code",
   "execution_count": null,
   "id": "c3e803ce",
   "metadata": {},
   "outputs": [],
   "source": [
    "root_chord_centerline = 100\n",
    "half_span = 222.5\n",
    "front_spar_from_leading_edge = 24.5\n",
    "wing_axis_from_leading_edge = 35.5\n",
    "dihedral_deg=4\n",
    "def local_chord_length(chord_x:float):\n",
    "    return root_chord_centerline*np.sqrt(1-4*(chord_x/(half_span*2))**2)\n",
    "# 13% to 9% where the outboard measurement of aurfoil thickness is taken at 160 from root"
   ]
  },
  {
   "cell_type": "code",
   "execution_count": null,
   "id": "016d6a44",
   "metadata": {},
   "outputs": [],
   "source": [
    "def ellipse_quadrant(rx, ry, num_points=100):\n",
    "    # Semi-major and semi-minor axes\n",
    "    a = rx\n",
    "    b = ry\n",
    "    theta = np.linspace(0, np.pi/2, num_points)\n",
    "    # Parametric equations for ellipse\n",
    "    x = a * np.cos(theta)\n",
    "    y = b * np.sin(theta)\n",
    "    \n",
    "    return np.array([x, y]).transpose()"
   ]
  },
  {
   "cell_type": "code",
   "execution_count": null,
   "id": "7f099236",
   "metadata": {},
   "outputs": [],
   "source": [
    "\n",
    "\n",
    "leading_edge  = ellipse_quadrant(half_span, wing_axis_from_leading_edge, num_points=50)\n",
    "trailing_edge = ellipse_quadrant(half_span, root_chord_centerline-wing_axis_from_leading_edge, num_points=50) * np.array([1,-1])\n",
    "\n",
    "front_spar_length = np.interp([wing_axis_from_leading_edge-front_spar_from_leading_edge], leading_edge[:,1], leading_edge[:,0])[0]\n",
    "chord_x = np.linspace(0,leading_edge[:,0].max())\n",
    "chord_length = (\n",
    "     np.interp(chord_x, *leading_edge[::-1].transpose())\n",
    "    -np.interp(chord_x, *trailing_edge[::-1].transpose())\n",
    ")\n",
    "\n",
    "# Plot to visualize\n",
    "fig, axs = plt.subplots(2,1,figsize=(8, 8), sharex=True)\n",
    "\n",
    "\n",
    "axs[0].plot(*leading_edge.transpose(), '-o', markersize=3, label=\"Leading Edge\")\n",
    "axs[0].plot(*trailing_edge.transpose(), '-o', markersize=3, label=\"Trailing Edge\")\n",
    "axs[0].plot([0,front_spar_length],[wing_axis_from_leading_edge-front_spar_from_leading_edge]*2, label=\"Front Spar\")\n",
    "axs[0].legend()\n",
    "axs[0].grid(True)\n",
    "axs[0].axis('equal')\n",
    "axs[1].plot(chord_x, chord_length, label=\"Chord Length\")\n",
    "\n",
    "axs[1].plot(chord_x, root_chord_centerline*np.sqrt(1-4*(chord_x/(half_span*2))**2)) #from https://www.thoughtality.com/pdf/spitfire.pdf\n",
    "axs[1].legend()\n",
    "fig.suptitle(\"Spitfire Wing Profiles (Approximated)\")"
   ]
  },
  {
   "cell_type": "code",
   "execution_count": null,
   "id": "d92a6a40",
   "metadata": {},
   "outputs": [],
   "source": [
    "fig,ax = plt.subplots()\n",
    "section_count = 6\n",
    "dihedral_offset = np.tan(np.deg2rad(dihedral_deg))\n",
    "for section_number, (chord_x, thickness) in enumerate(zip(np.linspace(0,half_span,section_count)[:-1], np.linspace(0.13,0.9, section_count)[:-1])):\n",
    "    leading_edge_offset = np.interp(chord_x, *leading_edge[::-1].transpose())\n",
    "    af = Airfoil.from_naca(\n",
    "        max_camber=0.2,\n",
    "        max_camber_position=0.02,\n",
    "        thickness=0.13,\n",
    "        chord_length_mm=local_chord_length(chord_x),\n",
    "    ).with_translation(\n",
    "        np.array([\n",
    "            wing_axis_from_leading_edge-leading_edge_offset,\n",
    "            dihedral_offset*chord_x\n",
    "        ])\n",
    "    )\n",
    "    if section_number<2:\n",
    "        af = af.with_holes(\n",
    "            holes=[\n",
    "                Hole(diameter_mm=5,position=np.array([\n",
    "                    wing_axis_from_leading_edge-front_spar_from_leading_edge,\n",
    "                    3\n",
    "                ]))\n",
    "            ]\n",
    "        )\n",
    "    af.plot(ax)\n"
   ]
  },
  {
   "cell_type": "code",
   "execution_count": null,
   "id": "8f78fb7f",
   "metadata": {},
   "outputs": [],
   "source": [
    "chord_x<front_spar_length"
   ]
  }
 ],
 "metadata": {
  "kernelspec": {
   "display_name": ".venv",
   "language": "python",
   "name": "python3"
  },
  "language_info": {
   "codemirror_mode": {
    "name": "ipython",
    "version": 3
   },
   "file_extension": ".py",
   "mimetype": "text/x-python",
   "name": "python",
   "nbconvert_exporter": "python",
   "pygments_lexer": "ipython3",
   "version": "3.13.3"
  }
 },
 "nbformat": 4,
 "nbformat_minor": 5
}
