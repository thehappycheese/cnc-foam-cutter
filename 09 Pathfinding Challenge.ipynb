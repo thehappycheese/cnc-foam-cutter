{
 "cells": [
  {
   "cell_type": "markdown",
   "id": "078e8bfd",
   "metadata": {},
   "source": [
    "# Pathfinding Challenge"
   ]
  },
  {
   "cell_type": "code",
   "execution_count": null,
   "id": "6cb62c95",
   "metadata": {},
   "outputs": [],
   "source": [
    "import numpy as np\n",
    "import pyvista as pv\n",
    "import shapely as sh\n",
    "import matplotlib.pyplot as plt\n",
    "\n",
    "from airfoil.util.array_helpers import split_indexable\n",
    "from airfoil.util.shapely_helpers import (\n",
    "    plot_shapely,\n",
    "    plot_shapely_directional,\n",
    "\n",
    ")\n",
    "from airfoil.util.linestring_helpers import (\n",
    "    deflection_angle\n",
    ")"
   ]
  },
  {
   "cell_type": "code",
   "execution_count": null,
   "id": "8cbae139",
   "metadata": {},
   "outputs": [],
   "source": [
    "s0 = sh.Point(0,0).buffer(60)\n",
    "s1 = sh.Point(0,0).buffer(60+30)\n",
    "s2 = sh.box(-100,-100,100,0)\n",
    "s3 = sh.box(-15,50, 15,250)\n",
    "spork:sh.Polygon = sh.difference(sh.union(s3,sh.difference(s1,s2)),s0)\n",
    "\n",
    "fig, (axa, axb) = plt.subplots(1,2,figsize=(10,5))\n",
    "plot_shapely([s0,s1,s2,s3], ax=axa)\n",
    "plot_shapely_directional([spork],legend=[\"spork\"],ax=axb)"
   ]
  },
  {
   "cell_type": "code",
   "execution_count": null,
   "id": "48578e69",
   "metadata": {},
   "outputs": [],
   "source": [
    "segments = split_indexable(\n",
    "    spork.exterior.coords, \n",
    "    np.where(deflection_angle(spork.exterior.coords)>np.deg2rad(30))[0]+1\n",
    ")\n",
    "plot_shapely_directional([sh.MultiLineString(segments)])"
   ]
  },
  {
   "cell_type": "code",
   "execution_count": null,
   "id": "bdbfc474",
   "metadata": {},
   "outputs": [],
   "source": []
  },
  {
   "cell_type": "code",
   "execution_count": null,
   "id": "c6a61a9a",
   "metadata": {},
   "outputs": [],
   "source": [
    "sh.MultiPolygon([s for s in sh.delaunay_triangles(spork).geoms if spork.contains(s.centroid)])"
   ]
  },
  {
   "cell_type": "code",
   "execution_count": null,
   "id": "8a3d94db",
   "metadata": {},
   "outputs": [],
   "source": [
    "spork2 = sh.affinity.translate(\n",
    "    sh.affinity.rotate(spork,180,origin=(0,0)),\n",
    "    70,20\n",
    ")\n",
    "plot_shapely_directional([spork, spork2])"
   ]
  }
 ],
 "metadata": {
  "kernelspec": {
   "display_name": ".venv",
   "language": "python",
   "name": "python3"
  },
  "language_info": {
   "codemirror_mode": {
    "name": "ipython",
    "version": 3
   },
   "file_extension": ".py",
   "mimetype": "text/x-python",
   "name": "python",
   "nbconvert_exporter": "python",
   "pygments_lexer": "ipython3",
   "version": "3.13.3"
  }
 },
 "nbformat": 4,
 "nbformat_minor": 5
}
