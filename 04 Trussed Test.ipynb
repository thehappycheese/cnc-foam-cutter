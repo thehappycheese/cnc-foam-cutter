{
 "cells": [
  {
   "cell_type": "code",
   "execution_count": null,
   "id": "47998c54",
   "metadata": {},
   "outputs": [],
   "source": [
    "from pathlib import Path\n",
    "import matplotlib.pyplot as plt\n",
    "from airfoil.airfoil import Airfoil, Hole\n",
    "from shapely.plotting import plot_polygon, plot_line\n",
    "from util.path_planning import split_and_roll, intro_path"
   ]
  },
  {
   "cell_type": "code",
   "execution_count": null,
   "id": "7410ff2e",
   "metadata": {},
   "outputs": [],
   "source": [
    "af = Airfoil.from_naca_designation(\"NACA 2414\", 100,50)\n",
    "ax,_=af.plot()"
   ]
  },
  {
   "cell_type": "code",
   "execution_count": null,
   "id": "59dd2149",
   "metadata": {},
   "outputs": [],
   "source": [
    "import numpy as np\n",
    "def zigzag(minx,miny,maxx, maxy, peaks:int=20):\n",
    "    x = np.linspace(0, 1, peaks)\n",
    "    y = np.zeros_like(x)\n",
    "    y[::2]=1\n",
    "    rx = (maxx-minx)*x+minx\n",
    "    ry = (maxy-miny)*y+miny\n",
    "    return np.vstack([rx,ry]).transpose()"
   ]
  },
  {
   "cell_type": "code",
   "execution_count": null,
   "id": "02949411",
   "metadata": {},
   "outputs": [],
   "source": [
    "af.plot()"
   ]
  },
  {
   "cell_type": "code",
   "execution_count": null,
   "id": "4f457a01",
   "metadata": {},
   "outputs": [],
   "source": [
    "from shapely import box, intersection, difference, union, LineString, Polygon\n",
    "afp = af.polygon()\n",
    "afpb = afp.bounds\n",
    "trussed = union(\n",
    "    intersection(\n",
    "        afp,\n",
    "        LineString(zigzag(*afpb,10)).buffer(2)\n",
    "    ),\n",
    "    difference(\n",
    "        afp,\n",
    "        intersection(\n",
    "            afp.buffer(-2),\n",
    "            box(15,-300,80,300)\n",
    "        )\n",
    "    )\n",
    ")\n",
    "top    = trussed.intersection(box(-500,0,500,500)).exterior\n",
    "bottom = trussed.intersection(box(-500,-500,500,0)).exterior\n",
    "#plot_line(bottom)"
   ]
  },
  {
   "cell_type": "code",
   "execution_count": null,
   "id": "b50b64a4",
   "metadata": {},
   "outputs": [],
   "source": [
    "plot_line(top)\n",
    "plot_line(bottom)"
   ]
  },
  {
   "cell_type": "code",
   "execution_count": null,
   "id": "4053e0bc",
   "metadata": {},
   "outputs": [],
   "source": [
    "path = intro_path(split_and_roll(Polygon(bottom)), padding=5)\n",
    "path=np.concat([\n",
    "    path,\n",
    "    [[path[-1][0]+30,path[-1][1]]]\n",
    "])\n",
    "plt.plot(*path.T)\n",
    "plt.gca().set_aspect(\"equal\")"
   ]
  },
  {
   "cell_type": "code",
   "execution_count": null,
   "id": "4cd03421",
   "metadata": {},
   "outputs": [],
   "source": [
    "from util.serial import CNC"
   ]
  },
  {
   "cell_type": "code",
   "execution_count": null,
   "id": "14b93056",
   "metadata": {},
   "outputs": [],
   "source": [
    "cnc = CNC()"
   ]
  },
  {
   "cell_type": "code",
   "execution_count": null,
   "id": "02e80356",
   "metadata": {},
   "outputs": [],
   "source": [
    "cnc.home()"
   ]
  },
  {
   "cell_type": "code",
   "execution_count": null,
   "id": "45b9268c",
   "metadata": {},
   "outputs": [],
   "source": [
    "cnc.writeln(\"G90 G21 F1000 X104 Y10 Z104 A10\")"
   ]
  },
  {
   "cell_type": "code",
   "execution_count": null,
   "id": "fe4013eb",
   "metadata": {},
   "outputs": [],
   "source": [
    "cnc.writeln(\"G92 X0 Y0 Z0 A0\")"
   ]
  },
  {
   "cell_type": "code",
   "execution_count": null,
   "id": "6ced4ab9",
   "metadata": {},
   "outputs": [],
   "source": [
    "cnc.absolute()"
   ]
  },
  {
   "cell_type": "code",
   "execution_count": null,
   "id": "c8c92fac",
   "metadata": {},
   "outputs": [],
   "source": [
    "cnc.send_g1_xy_commands(path, feed=300)"
   ]
  },
  {
   "cell_type": "code",
   "execution_count": null,
   "id": "7be07a37",
   "metadata": {},
   "outputs": [],
   "source": [
    "cnc.writeln(\"G90 G21 F1000 X0 Y3 Z0 A3\")"
   ]
  },
  {
   "cell_type": "code",
   "execution_count": null,
   "id": "10f1e624",
   "metadata": {},
   "outputs": [],
   "source": [
    "cnc.writeln(\"G92 X0 Y0 Z0 A0\")"
   ]
  }
 ],
 "metadata": {
  "kernelspec": {
   "display_name": ".venv",
   "language": "python",
   "name": "python3"
  },
  "language_info": {
   "codemirror_mode": {
    "name": "ipython",
    "version": 3
   },
   "file_extension": ".py",
   "mimetype": "text/x-python",
   "name": "python",
   "nbconvert_exporter": "python",
   "pygments_lexer": "ipython3",
   "version": "3.13.3"
  }
 },
 "nbformat": 4,
 "nbformat_minor": 5
}
