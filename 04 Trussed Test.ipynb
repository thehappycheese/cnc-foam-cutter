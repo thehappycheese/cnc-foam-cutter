{
 "cells": [
  {
   "cell_type": "code",
   "execution_count": null,
   "id": "47998c54",
   "metadata": {},
   "outputs": [],
   "source": [
    "from airfoil import Airfoil\n",
    "from airfoil.util.shapely_helpers import plot_shapely_directional\n",
    "import numpy as np"
   ]
  },
  {
   "cell_type": "code",
   "execution_count": null,
   "id": "a43b46a4",
   "metadata": {},
   "outputs": [],
   "source": [
    "def intro_path(coords:np.ndarray, padding:float = 10) -> np.ndarray:\n",
    "    coords = np.roll(coords,-(coords[:,0]+coords[:,1]).argmax()-1, axis=0)[::-1]\n",
    "    start = coords[0]\n",
    "    bottom_left = coords.min(axis=0)\n",
    "    top_right = coords.max(axis=0)\n",
    "    width, height = top_right-bottom_left\n",
    "    \n",
    "    coords = np.vstack([\n",
    "        [\n",
    "            bottom_left - np.array([padding,padding]),\n",
    "            bottom_left+np.array([-padding,height+padding]),\n",
    "            top_right + np.array([padding,padding]),\n",
    "            start + np.array([padding,0])\n",
    "        ],\n",
    "        coords,\n",
    "        [\n",
    "            coords[-1]+np.array([padding,0])\n",
    "        ]\n",
    "    ])\n",
    "    coords = coords - coords.min(axis=0)\n",
    "    return coords"
   ]
  },
  {
   "cell_type": "code",
   "execution_count": null,
   "id": "7410ff2e",
   "metadata": {},
   "outputs": [],
   "source": [
    "af = Airfoil.from_naca_designation(\"NACA 2414\", 100,50)\n",
    "ax,_=af.plot()"
   ]
  },
  {
   "cell_type": "code",
   "execution_count": null,
   "id": "59dd2149",
   "metadata": {},
   "outputs": [],
   "source": [
    "import numpy as np\n",
    "def zigzag(minx,miny,maxx, maxy, peaks:int=20):\n",
    "    x = np.linspace(0, 1, peaks)\n",
    "    y = np.zeros_like(x)\n",
    "    y[::2]=1\n",
    "    rx = (maxx-minx)*x+minx\n",
    "    ry = (maxy-miny)*y+miny\n",
    "    return np.vstack([rx,ry]).transpose()"
   ]
  },
  {
   "cell_type": "code",
   "execution_count": null,
   "id": "4f457a01",
   "metadata": {},
   "outputs": [],
   "source": [
    "from shapely import box, intersection, difference, union, LineString, Polygon\n",
    "afp = af.polygon()\n",
    "afpb = afp.bounds\n",
    "trussed = union(\n",
    "    intersection(\n",
    "        afp,\n",
    "        LineString(zigzag(*afpb,10)).buffer(2)\n",
    "    ),\n",
    "    difference(\n",
    "        afp,\n",
    "        intersection(\n",
    "            afp.buffer(-2),\n",
    "            box(15,-300,80,300)\n",
    "        )\n",
    "    )\n",
    ")\n",
    "top    = trussed.intersection(box(-500,0,500,500)).exterior\n",
    "bottom = trussed.intersection(box(-500,-500,500,0)).exterior\n",
    "#plot_line(bottom)"
   ]
  },
  {
   "cell_type": "code",
   "execution_count": null,
   "id": "b50b64a4",
   "metadata": {},
   "outputs": [],
   "source": [
    "ax = plot_shapely_directional([top, bottom])\n",
    "ax.figure.set_size_inches(20,10)"
   ]
  }
 ],
 "metadata": {
  "kernelspec": {
   "display_name": ".venv",
   "language": "python",
   "name": "python3"
  },
  "language_info": {
   "codemirror_mode": {
    "name": "ipython",
    "version": 3
   },
   "file_extension": ".py",
   "mimetype": "text/x-python",
   "name": "python",
   "nbconvert_exporter": "python",
   "pygments_lexer": "ipython3",
   "version": "3.13.4"
  }
 },
 "nbformat": 4,
 "nbformat_minor": 5
}
