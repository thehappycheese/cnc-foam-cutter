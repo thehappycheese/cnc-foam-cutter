{
 "cells": [
  {
   "cell_type": "code",
   "execution_count": null,
   "id": "b326c697",
   "metadata": {},
   "outputs": [],
   "source": [
    "from itertools import pairwise\n",
    "import pandas as pd\n",
    "import numpy as np\n",
    "from scipy.integrate import trapezoid as integrate_trapezoid\n",
    "import matplotlib.pyplot as plt\n",
    "from airfoil import (\n",
    "    Airfoil,\n",
    "    Hole,\n",
    "    Hinge,\n",
    "    WingSegment,\n",
    "    Decomposer\n",
    ")\n",
    "from airfoil.cnc import MachineSetup, CNC\n",
    "from airfoil.wing import (\n",
    "    angle_degrees_to_slope,\n",
    "    mirror,\n",
    "    auto_piecewise,\n",
    "    auto_interpolate,\n",
    "    ellipse_quadrant,\n",
    "    calculated_wing_cube_loading,\n",
    "    create_airfoil_sampler,\n",
    ")\n",
    "from airfoil.util.linestring_helpers import resample_shapes\n",
    "from airfoil.util.array_helpers import create_array_interpolator\n",
    "import pyvista as pv\n",
    "XPS_FOAM_DENSITY = 40 # kg/m**3"
   ]
  },
  {
   "cell_type": "code",
   "execution_count": null,
   "id": "e13ac1db",
   "metadata": {},
   "outputs": [],
   "source": [
    "elevator_sections_at = np.array([\n",
    "    0,\n",
    "    25,\n",
    "    150,\n",
    "])\n",
    "elevator_section = mirror(create_airfoil_sampler(\n",
    "    airfoil         = lambda _: Airfoil.from_naca_designation(\"0012\",100),\n",
    "    leading_edge    = auto_interpolate([\n",
    "        [  0,   0],\n",
    "        [ 25,   0],\n",
    "        [150, -20],\n",
    "    ]),\n",
    "    dihedral        = lambda _: 0,\n",
    "    chord           = auto_interpolate([\n",
    "        [  0, 120],\n",
    "        [ 25, 120],\n",
    "        [150, 100],\n",
    "    ]),\n",
    "    washout         = lambda _: 0,\n",
    "    rotation_center = lambda _: 0,\n",
    "))\n",
    "elevator_segments = [\n",
    "    WingSegment(\n",
    "        left   = elevator_section(a),\n",
    "        right  = elevator_section(b),\n",
    "        length = b-a,\n",
    "    )\n",
    "    for a,b\n",
    "    in pairwise(elevator_sections_at)\n",
    "]"
   ]
  },
  {
   "cell_type": "code",
   "execution_count": null,
   "id": "b5c711b0",
   "metadata": {},
   "outputs": [],
   "source": [
    "rudder_sections_at = np.array([\n",
    "    0,\n",
    "    25,\n",
    "    150,\n",
    "])\n",
    "rudder_section = mirror(create_airfoil_sampler(\n",
    "    airfoil         = lambda _: Airfoil.from_naca_designation(\"0012\",100),\n",
    "    leading_edge    = auto_interpolate([\n",
    "        [  0,   0],\n",
    "        [ 25,   0],\n",
    "        [150, -20],\n",
    "    ]),\n",
    "    dihedral        = lambda _: 0,\n",
    "    chord           = auto_interpolate([\n",
    "        [  0, 120],\n",
    "        [ 25, 120],\n",
    "        [150, 100],\n",
    "    ]),\n",
    "    washout         = lambda _: 0,\n",
    "    rotation_center = lambda _: 0,\n",
    "))\n",
    "rudder_segments = [\n",
    "    WingSegment(\n",
    "        left   = rudder_section(a),\n",
    "        right  = rudder_section(b),\n",
    "        length = b-a,\n",
    "    )\n",
    "    for a,b\n",
    "    in pairwise(rudder_sections_at)\n",
    "]"
   ]
  },
  {
   "cell_type": "code",
   "execution_count": null,
   "id": "287101ec",
   "metadata": {},
   "outputs": [],
   "source": [
    "wing_sections_at = np.array([\n",
    "          25,\n",
    "    350/4+25,      \n",
    "    350/2+25,\n",
    "    350  +25,\n",
    "])\n",
    "leading_edge = mirror(auto_piecewise([\n",
    "    (      25, lambda x: 0),\n",
    "    (350/2+25, lambda x: -x*angle_degrees_to_slope(4)),\n",
    "    (  350+25, lambda x: -x*angle_degrees_to_slope(10)),\n",
    "]))\n",
    "trailing_edge = mirror(auto_piecewise([\n",
    "    ( 25.0, lambda x: -180),\n",
    "    #(350/2+25,, lambda x: -x*angle_degrees_to_slope( 10)),\n",
    "    (350+25, lambda x: x*angle_degrees_to_slope( 3)),\n",
    "]))\n",
    "chord = lambda x: leading_edge(x)-trailing_edge(x)\n",
    "dihedral = mirror(auto_piecewise([\n",
    "    ( 25, lambda _: 0),\n",
    "    #(350/2+25, lambda x: x * angle_degrees_to_slope( 1)),\n",
    "    (350+25, lambda x: x * angle_degrees_to_slope( 5)),\n",
    "]))\n",
    "washout = mirror(auto_interpolate([\n",
    "    [       0,  0],\n",
    "    [350/2+25,  0],\n",
    "    [350  +25, -2],\n",
    "]))\n",
    "hinge_line = mirror(lambda x: np.where(x>=350/2+25, trailing_edge(x)+chord(350/2+25)*0.3,np.nan))\n",
    "spar_line  = mirror(lambda x: np.where(x<=350/4+25, -chord(0)*0.3,np.nan))\n",
    "wing_airfoil = create_airfoil_sampler(\n",
    "    airfoil         = lambda x: Airfoil.from_naca_designation(\"23012\", 100),\n",
    "    leading_edge    = leading_edge,\n",
    "    dihedral        = dihedral,\n",
    "    chord           = chord,\n",
    "    washout         = washout,\n",
    "    rotation_center = lambda x: chord(x)*0.25\n",
    ")\n",
    "\n",
    "wing_segments:list[WingSegment] = []\n",
    "for sla,slb in pairwise([-25]+list(wing_sections_at)):\n",
    "    af1 = wing_airfoil(sla)\n",
    "    af2 = wing_airfoil(slb)\n",
    "    mid = (sla+slb)/2\n",
    "    if not np.isnan(hinge_line(mid)):\n",
    "        af1 = af1.with_hinge(Hinge([-hinge_line(sla),0],angle_deg=10,rotation_deg=0),upper_thickness=2)\n",
    "        af2 = af2.with_hinge(Hinge([-hinge_line(slb),0],angle_deg=10,rotation_deg=0),upper_thickness=2)\n",
    "    if not np.isnan(spar_line(mid)):\n",
    "        af1 = af1.with_holes([Hole(8, (-spar_line(sla),8))])\n",
    "        af2 = af2.with_holes([Hole(8, (-spar_line(slb),8))])\n",
    "    wing_segments.append(WingSegment(\n",
    "        af1,\n",
    "        af2,\n",
    "        slb-sla\n",
    "    ))"
   ]
  },
  {
   "cell_type": "code",
   "execution_count": null,
   "id": "0f7a0e9e",
   "metadata": {},
   "outputs": [],
   "source": [
    "x_wing     = np.linspace(-(350+25),(350+25),400)\n",
    "x_elevator = np.linspace(-150,150,400)\n",
    "x_rudder = np.linspace(0,150,400)\n",
    "\n",
    "fig, ax1 = plt.subplots(figsize=(5,8))\n",
    "ax1.plot(x_wing,  leading_edge(x_wing))\n",
    "ax1.plot(x_wing, trailing_edge(x_wing))\n",
    "ax1.plot(x_wing, hinge_line(x_wing))\n",
    "ax1.plot(x_wing, spar_line(x_wing))\n",
    "ax1.set_aspect(\"equal\")\n",
    "for section in wing_sections_at:\n",
    "    ax1.axvline(section,linestyle=\":\",c=\"r\",linewidth=1)\n",
    "    ax1.axvline(-section,linestyle=\":\",c=\"r\",linewidth=1)\n",
    "\n",
    "ax1.plot(x_elevator, -400 -np.array([*map(lambda x:elevator_section(x).points[:,0].min(),x_elevator)]))\n",
    "ax1.plot(x_elevator, -400 -np.array([*map(lambda x:elevator_section(x).points[:,0].max(),x_elevator)]))\n",
    "ax1.plot(rudder_section(0).points[:,1],-400-rudder_section(0).points[:,0])\n",
    "\n",
    "fig, ax2 = plt.subplots(figsize=(5,8))\n",
    "sar = (-wing_sections_at)[::-1].tolist()+wing_sections_at.tolist()\n",
    "ax2.plot(sar, np.array([wing_airfoil(xi).points[:,1].max()/100*chord(xi)+dihedral(xi) for xi in sar]))\n",
    "ax2.plot(sar, np.array([wing_airfoil(xi).points[:,1].min()/100*chord(xi)+dihedral(xi) for xi in sar]))\n",
    "rl = np.array([*map(lambda x:rudder_section(x).points[:,1].min(),x_rudder)])\n",
    "rr = np.array([*map(lambda x:rudder_section(x).points[:,1].max(),x_rudder)])\n",
    "ax2.plot(rl,x_rudder-80)\n",
    "ax2.plot(rr,x_rudder-80)\n",
    "et = np.array([*map(lambda x:elevator_section(x).points[:,1].min(),x_elevator)])\n",
    "eb = np.array([*map(lambda x:elevator_section(x).points[:,1].max(),x_elevator)])\n",
    "ax2.plot(x_elevator,et-80)\n",
    "ax2.plot(x_elevator,eb-80)\n",
    "ax2.set_aspect(\"equal\")"
   ]
  },
  {
   "cell_type": "code",
   "execution_count": null,
   "id": "9e0fcde6",
   "metadata": {},
   "outputs": [],
   "source": [
    "wing_segments[1].right.plot_raw(show_hinge=True, show_holes=True)"
   ]
  },
  {
   "cell_type": "code",
   "execution_count": null,
   "id": "019dc6be",
   "metadata": {},
   "outputs": [],
   "source": [
    "#wing_segments[2].right.plot_raw(show_hinge=True, show_holes=True)\n",
    "for seg in wing_segments:\n",
    "    de = Decomposer()\n",
    "    fig,ax = plt.subplots(2, figsize=(8,3),sharex=True)\n",
    "    seg.left.plot(ax=ax[0], decomposer=de)\n",
    "    seg.right.plot(ax=ax[1], decomposer=de)"
   ]
  },
  {
   "cell_type": "code",
   "execution_count": null,
   "id": "c5b06dfe",
   "metadata": {},
   "outputs": [],
   "source": [
    "pt = pv.Plotter()\n",
    "wing_segment_meshes= WingSegment.to_meshes(wing_segments, add_mirrored=True, first_segment_is_central=True, share_decomposer=False)\n",
    "for m in wing_segment_meshes:\n",
    "    pt.add_mesh(\n",
    "        m.rotate_x(-4).translate((0,0,60)),\n",
    "        #pbr=True, \n",
    "        smooth_shading=True,\n",
    "        split_sharp_edges=True,\n",
    "        feature_angle=70,\n",
    "        roughness=0.1,\n",
    "        #opacity=0.8,\n",
    "    )\n",
    "elevator_segment_meshes = WingSegment.to_meshes(elevator_segments, add_mirrored=True, first_segment_is_central=True)\n",
    "for m in elevator_segment_meshes:\n",
    "    pt.add_mesh(\n",
    "        m.translate((0,400,0)),\n",
    "        #opacity=0.8,\n",
    "    )\n",
    "rudder_segment_meshes = WingSegment.to_meshes(rudder_segments, first_segment_is_central=False)\n",
    "for m in rudder_segment_meshes:\n",
    "    pt.add_mesh(\n",
    "        m.rotate_y(-90).translate((0,400,0)),\n",
    "        #opacity=0.8,\n",
    "    )\n",
    "cl = 600\n",
    "pt.add_mesh(pv.Cylinder((0,cl/2,0),direction=(0,1,0),radius=8,height=cl).translate((0,-180,0)))\n",
    "pt.show()"
   ]
  },
  {
   "cell_type": "code",
   "execution_count": null,
   "id": "16b4b1c4",
   "metadata": {},
   "outputs": [],
   "source": [
    "x = np.linspace(-wing_sections_at.max(),wing_sections_at.max(),400)\n",
    "wing_volume = sum(item.volume for item in wing_segment_meshes)\n",
    "wing_area = integrate_trapezoid(\n",
    "    np.array([leading_edge(xi)-trailing_edge(xi) for xi in x]),\n",
    "    x,\n",
    ")\n",
    "wing_area_m2      = wing_area/1000**2\n",
    "wing_span         = np.max(x)-np.min(x)\n",
    "mean_chord        = wing_area/wing_span\n",
    "aspect_ratio      = wing_span/mean_chord\n",
    "total_aircraft_mass_estimate     = 0.700\n",
    "wing_cube_loading = calculated_wing_cube_loading(total_aircraft_mass_estimate,wing_area_m2)\n",
    "wing_mass         = wing_volume/1000**3*XPS_FOAM_DENSITY *1000\n",
    "\n",
    "print(f\"\"\"\n",
    "{wing_span = :.1f}\n",
    "{mean_chord = :.1f}\n",
    "{aspect_ratio = :.1f}\n",
    "{wing_area_m2 = :.3f}\n",
    "{wing_mass = :.0f} g\n",
    "{total_aircraft_mass_estimate = :.1f} kg\n",
    "{wing_cube_loading = :.1f}\n",
    "\"\"\")"
   ]
  },
  {
   "cell_type": "code",
   "execution_count": null,
   "id": "ce9440d7",
   "metadata": {},
   "outputs": [],
   "source": [
    "pt.export_gltf(\"./data/outputs/2025 06 29 Zippy.gltf\")"
   ]
  },
  {
   "cell_type": "code",
   "execution_count": null,
   "id": "577b914c",
   "metadata": {},
   "outputs": [],
   "source": [
    "from typing import Literal\n",
    "def cut_size(ws:WingSegment, excess:float=10, roundup:float=10):\n",
    "    bs = ws.bounding_size()\n",
    "    depth = bs[0]\n",
    "    width = bs[2]\n",
    "    return float(width), float(np.ceil(depth/roundup)*roundup+excess)\n",
    "def cut_list(\n",
    "        wss:list[WingSegment],\n",
    "        label:str|None=None,\n",
    "        mode:Literal[\"mirrored\", \"mirrored centered\", \"as is\"]=\"mirrored centered\",\n",
    "        excess:float=10, roundup:float=5\n",
    "    ):\n",
    "    df = pd.DataFrame([cut_size(item, excess, roundup) for item in wss], columns=[\"width\",\"depth\"])\n",
    "    match mode:\n",
    "        case \"mirrored\":\n",
    "            df = pd.concat([df,df])\n",
    "        case \"mirrored centered\":\n",
    "            df = pd.concat([df,df.iloc[1:]])\n",
    "    res = df.groupby([\"width\",\"depth\"]).size().rename(\"cut_list\").to_frame()\n",
    "    if label is not None:\n",
    "        res[\"label\"]=label\n",
    "    return res\n",
    "def cut_lists(ds:dict[str,tuple[list[WingSegment], Literal[\"mirrored\", \"mirrored centered\", \"as is\"]]], excess:float=10, roundup:float=5):\n",
    "    chunks = []\n",
    "    for label, (segments, mode) in ds.items():\n",
    "        chunks.append(cut_list(\n",
    "            segments, \n",
    "            label=label, \n",
    "            mode=mode,\n",
    "            excess=excess, \n",
    "            roundup=roundup\n",
    "        ))\n",
    "    return pd.concat(chunks).groupby([\"width\",\"depth\"]).agg({\"cut_list\":\"sum\",\"label\":lambda x: \", \".join(np.sort(np.unique(x)))})\n",
    "cl = cut_lists({\n",
    "    \"wing\": (wing_segments, \"mirrored centered\"),\n",
    "    \"elevator\": (elevator_segments, \"mirrored centered\"),\n",
    "    \"rudder\": (rudder_segments, \"as is\"),\n",
    "})\n",
    "cl"
   ]
  },
  {
   "cell_type": "code",
   "execution_count": null,
   "id": "3d7185fe",
   "metadata": {},
   "outputs": [],
   "source": [
    "cl.to_clipboard()"
   ]
  },
  {
   "cell_type": "code",
   "execution_count": null,
   "id": "e214a16c",
   "metadata": {},
   "outputs": [],
   "source": [
    "PLANE_SPACING = 225"
   ]
  },
  {
   "cell_type": "code",
   "execution_count": null,
   "id": "d78fa63f",
   "metadata": {},
   "outputs": [],
   "source": [
    "segment_index = 1\n",
    "seg = wing_segments[segment_index]\n",
    "ms = MachineSetup(\n",
    "    seg,\n",
    "    foam_width  = seg.length,\n",
    "    foam_height = 30,\n",
    "    foam_depth = seg.bounding_size()[0]+10,\n",
    "    plane_spacing=PLANE_SPACING,\n",
    "    decomposer=Decomposer(buffer=0.5)\n",
    ").with_recentered_part()\n",
    "ms.plot((0,0,0,0))"
   ]
  },
  {
   "cell_type": "code",
   "execution_count": null,
   "id": "e63cfcee",
   "metadata": {},
   "outputs": [],
   "source": [
    "instructions = ms.instructions(record_name=f\"zippy_seg_{segment_index}\")\n",
    "#instructions[:,0]"
   ]
  },
  {
   "cell_type": "code",
   "execution_count": null,
   "id": "2ea6099b",
   "metadata": {},
   "outputs": [],
   "source": [
    "instructions[:,]"
   ]
  },
  {
   "cell_type": "code",
   "execution_count": null,
   "id": "68635729",
   "metadata": {},
   "outputs": [],
   "source": [
    "np.diff(instructions[:,1:],n=1,axis=0)"
   ]
  },
  {
   "cell_type": "code",
   "execution_count": null,
   "id": "ce7e3179",
   "metadata": {},
   "outputs": [],
   "source": [
    "from airfoil.util.path_planning import compensate_feedrate\n",
    "feedrate_compensation = np.array([compensate_feedrate(*i) for i in np.diff(instructions[:,1:],n=1,axis=0)])\n",
    "feedrate_compensation[np.isnan(feedrate_compensation)]=1\n",
    "\n",
    "import matplotlib.pyplot as plt\n",
    "plt.plot(np.linspace(0,1,len(feedrate_compensation)),feedrate_compensation)"
   ]
  },
  {
   "cell_type": "code",
   "execution_count": null,
   "id": "2caef063",
   "metadata": {},
   "outputs": [],
   "source": [
    "raise Exception(\"ready to cnc?\")"
   ]
  },
  {
   "cell_type": "code",
   "execution_count": null,
   "id": "e0279179",
   "metadata": {},
   "outputs": [],
   "source": [
    "cnc = CNC()"
   ]
  },
  {
   "cell_type": "code",
   "execution_count": null,
   "id": "4906e56b",
   "metadata": {},
   "outputs": [],
   "source": [
    "cnc.alarm_soft_reset()\n",
    "cnc.alarm_clear()"
   ]
  },
  {
   "cell_type": "code",
   "execution_count": null,
   "id": "e752ee9d",
   "metadata": {},
   "outputs": [],
   "source": [
    "cnc.home()\n",
    "cnc.set_position(0,0,0,0)"
   ]
  },
  {
   "cell_type": "code",
   "execution_count": null,
   "id": "6007982c",
   "metadata": {},
   "outputs": [],
   "source": [
    "cnc.absolute()\n",
    "cnc.travel(100,50,100,50)"
   ]
  },
  {
   "cell_type": "code",
   "execution_count": null,
   "id": "acacdfc0",
   "metadata": {},
   "outputs": [],
   "source": [
    "# manually align\n",
    "cnc.relative()\n",
    "cnc.travel(\n",
    "    x=0,\n",
    "    y=2,\n",
    "    z=0,\n",
    "    a=2,\n",
    ")"
   ]
  },
  {
   "cell_type": "code",
   "execution_count": null,
   "id": "a8f064cd",
   "metadata": {},
   "outputs": [],
   "source": [
    "cnc.set_position(0,0,0,0)\n",
    "cnc.absolute()"
   ]
  },
  {
   "cell_type": "code",
   "execution_count": null,
   "id": "9fe6ed1b",
   "metadata": {},
   "outputs": [],
   "source": [
    "cnc.send_g1_commands(instructions)"
   ]
  },
  {
   "cell_type": "code",
   "execution_count": null,
   "id": "8bf711b2",
   "metadata": {},
   "outputs": [],
   "source": []
  },
  {
   "cell_type": "code",
   "execution_count": null,
   "id": "a9818e43",
   "metadata": {},
   "outputs": [],
   "source": [
    "cnc.travel(0,0,0,0)"
   ]
  }
 ],
 "metadata": {
  "kernelspec": {
   "display_name": ".venv",
   "language": "python",
   "name": "python3"
  },
  "language_info": {
   "codemirror_mode": {
    "name": "ipython",
    "version": 3
   },
   "file_extension": ".py",
   "mimetype": "text/x-python",
   "name": "python",
   "nbconvert_exporter": "python",
   "pygments_lexer": "ipython3",
   "version": "3.13.3"
  }
 },
 "nbformat": 4,
 "nbformat_minor": 5
}
