{
 "cells": [
  {
   "cell_type": "code",
   "execution_count": null,
   "id": "44d1849d",
   "metadata": {},
   "outputs": [],
   "source": [
    "import numpy as np\n",
    "import pandas as pd\n",
    "\n",
    "from airfoil._airfoil import Airfoil, Hole, Decomposer\n",
    "\n",
    "from airfoil.cnc._serial import CNC\n",
    "from airfoil.util.array_helpers import blur1d, map_to_range, remove_sequential_duplicates\n",
    "from airfoil.util.linestring_helpers import deflection_angle_padded\n",
    "from airfoil.util.path_planning import (\n",
    "    project_line_to_plane\n",
    ")\n",
    "from airfoil.util.pyvista_helpers import create_ruled_surface\n",
    "\n",
    "import pyvista as pv\n",
    "pv.set_jupyter_backend('trame')\n"
   ]
  },
  {
   "cell_type": "code",
   "execution_count": null,
   "id": "7596f389",
   "metadata": {},
   "outputs": [],
   "source": [
    "holes = [\n",
    "    Hole(5,np.array([50,2])),\n",
    "    Hole(5,np.array([100,2])),\n",
    "]\n",
    "afa = Airfoil.from_naca4(\n",
    "    max_camber=0,\n",
    "    max_camber_position=0,\n",
    "    max_thickness=0.12,\n",
    "    chord_length=180,\n",
    ").with_holes(holes)\n",
    "afb = Airfoil.from_naca4(\n",
    "    max_camber=0,\n",
    "    max_camber_position=0,\n",
    "    max_thickness=0.10,\n",
    "    chord_length=150,\n",
    ").with_translation(np.array([30,3])).with_holes(holes)\n",
    "afa, afb = afb,afa\n",
    "ax,counts=afa.plot()\n",
    "afb.plot(ax=ax)"
   ]
  },
  {
   "cell_type": "code",
   "execution_count": null,
   "id": "33672774",
   "metadata": {},
   "outputs": [],
   "source": [
    "decomposer = Decomposer(buffer=0.5)"
   ]
  },
  {
   "cell_type": "code",
   "execution_count": null,
   "id": "07274e59",
   "metadata": {},
   "outputs": [],
   "source": [
    "afa_paths = decomposer.decompose(afa)\n",
    "afb_paths = decomposer.decompose(afb)"
   ]
  },
  {
   "cell_type": "code",
   "execution_count": null,
   "id": "aa3356dc",
   "metadata": {},
   "outputs": [],
   "source": [
    "\n",
    "afa_path = remove_sequential_duplicates(np.concat(afa_paths))\n",
    "afb_path = remove_sequential_duplicates(np.concat(afb_paths))\n",
    "\n",
    "all_points = np.concat([afa_path,afb_path])\n",
    "bounds_min = all_points.min(axis=0)\n",
    "\n",
    "afa_path-=bounds_min\n",
    "afb_path-=bounds_min\n",
    "\n",
    "\n",
    "foam_width    = 200\n",
    "plane_spacing = 222\n",
    "\n",
    "left_foam   = -foam_width    / 2\n",
    "left_plane  = -plane_spacing / 2\n",
    "right_foam  =  foam_width    / 2\n",
    "right_plane =  plane_spacing / 2\n",
    "\n",
    "afa_path_3d = np.concat([\n",
    "    afa_path,\n",
    "    np.ones(len(afa_path)).reshape(-1,1) * left_foam\n",
    "], axis=-1)\n",
    "\n",
    "afb_path_3d = np.concat([\n",
    "    afb_path,\n",
    "    np.ones(len(afb_path)).reshape(-1,1) * right_foam\n",
    "], axis=-1)\n",
    "\n",
    "afa_projected = []\n",
    "afb_projected = []\n",
    "for a, b in zip(afa_path_3d, afb_path_3d):\n",
    "    afa_projected.append(project_line_to_plane(a, b, \"yx\", left_plane))\n",
    "    afb_projected.append(project_line_to_plane(a, b, \"yx\", right_plane))\n",
    "afa_projected = np.array(afa_projected)\n",
    "afb_projected = np.array(afb_projected)"
   ]
  },
  {
   "cell_type": "code",
   "execution_count": null,
   "id": "67e829da",
   "metadata": {},
   "outputs": [],
   "source": [
    "speed = map_to_range(\n",
    "    blur1d(np.max([\n",
    "        deflection_angle_padded(afa_path),\n",
    "        deflection_angle_padded(afb_path),\n",
    "    ],axis=0)),\n",
    "    300,\n",
    "    200\n",
    ")\n",
    "pd.Series(speed).plot(xlabel=\"point\",ylabel=\"mm/s\", title=\"Cut Speed\", figsize=(5,2))"
   ]
  },
  {
   "cell_type": "code",
   "execution_count": null,
   "id": "dd4647f4",
   "metadata": {},
   "outputs": [],
   "source": [
    "np.insert(afa_projected,0,-left_plane,axis=-1)"
   ]
  },
  {
   "cell_type": "code",
   "execution_count": null,
   "id": "654c9073",
   "metadata": {},
   "outputs": [],
   "source": [
    "surface_mesh = create_ruled_surface(\n",
    "    np.roll(afa_path_3d, 1, axis=1),\n",
    "    np.roll(afb_path_3d, 1, axis=1),\n",
    ")\n",
    "surface_mesh.cell_data['speed'] = speed[1:]\n",
    "box_width = 200   # width in x direction\n",
    "box_height = 30  # height in y direction  \n",
    "box_depth = 200   # depth in z direction\n",
    "\n",
    "# Create translucent box centered on x=0\n",
    "box = pv.Box(\n",
    "    [\n",
    "        -box_width/2,\n",
    "        +box_width/2,\n",
    "        0,\n",
    "        box_depth,\n",
    "        0,\n",
    "        box_height\n",
    "    ]\n",
    ")\n",
    "\n",
    "plot_projected_a = pv.MultipleLines(\n",
    "    np.roll(afa_projected,1,-1)\n",
    ").tube(radius=0.5,n_sides=6)\n",
    "plot_projected_b = pv.MultipleLines(\n",
    "    np.roll(afb_projected,1,-1)\n",
    ").tube(radius=0.5,n_sides=6)\n",
    "\n",
    "# Create plotter\n",
    "plotter = pv.Plotter()\n",
    "\n",
    "# Add the surface mesh\n",
    "plotter.add_mesh(\n",
    "    surface_mesh, \n",
    "    #color='lightblue', \n",
    "    scalars='speed',  # Use the face data you stored\n",
    "    cmap='plasma',\n",
    "    opacity=0.9,\n",
    "    #show_edges=True,\n",
    "    #edge_color='#222222',\n",
    "    #line_width=1\n",
    ")\n",
    "plotter.add_mesh(\n",
    "    box.extract_all_edges().tube(radius=0.5),\n",
    "    color='blue',\n",
    "    opacity=0.8,\n",
    "    # show_edges=True,\n",
    "    # edge_color='darkred',\n",
    "    # line_width=2\n",
    ")\n",
    "plotter.add_mesh(\n",
    "    plot_projected_a,\n",
    "    color=\"red\"\n",
    ")\n",
    "plotter.add_mesh(\n",
    "    plot_projected_b,\n",
    "    color=\"red\"\n",
    ")\n",
    "# Set up the plot\n",
    "plotter.add_axes()\n",
    "plotter.show_grid()\n",
    "#plotter.add_legend()\n",
    "plotter.set_background('white')\n",
    "plotter.enable_parallel_projection()\n",
    "# Show the plot\n",
    "plotter.show()#jupyter_backend=\"client\")\n"
   ]
  },
  {
   "cell_type": "code",
   "execution_count": null,
   "id": "d4ecbb89",
   "metadata": {},
   "outputs": [],
   "source": [
    "# compute bounding box\n",
    "all = np.vstack([afa_projected,afb_projected])\n",
    "afa_projected -= all.min(axis=0)\n",
    "afb_projected -= all.min(axis=0)\n",
    "afa_projected += np.array([[0,5,2]])\n",
    "afb_projected += np.array([[0,5,2]])\n",
    "all = np.vstack([afa_projected,afb_projected])\n",
    "all.max(axis=0)-all.min(axis=0)"
   ]
  },
  {
   "cell_type": "code",
   "execution_count": null,
   "id": "0428bd79",
   "metadata": {},
   "outputs": [],
   "source": [
    "import matplotlib.pyplot as plt\n",
    "plt.figure(figsize=(20,20))\n",
    "plt.plot(*afa_projected.T[:2], label=\"afa_projected\")\n",
    "plt.plot(*afb_projected.T[:2], label=\"afb_projected\")\n",
    "plt.legend()\n",
    "plt.grid()\n",
    "plt.gca().set_aspect(\"equal\")"
   ]
  },
  {
   "cell_type": "code",
   "execution_count": null,
   "id": "a5f35f5c",
   "metadata": {},
   "outputs": [],
   "source": [
    "commands = [\n",
    "    [600, 0,35,0,35],\n",
    "    [1000, 205,35,205,35],\n",
    "    *np.concat(\n",
    "        [\n",
    "            speed.reshape((-1,1)),\n",
    "            afa_projected,\n",
    "            afb_projected\n",
    "        ],\n",
    "        axis=1\n",
    "    ).tolist(),\n",
    "    [300, 210,35,210,35],\n",
    "]"
   ]
  },
  {
   "cell_type": "code",
   "execution_count": null,
   "id": "e6caa709",
   "metadata": {},
   "outputs": [],
   "source": [
    "commands"
   ]
  },
  {
   "cell_type": "code",
   "execution_count": null,
   "id": "e02fd89e",
   "metadata": {},
   "outputs": [],
   "source": [
    "cnc = CNC()"
   ]
  },
  {
   "cell_type": "code",
   "execution_count": null,
   "id": "116ebe6b",
   "metadata": {},
   "outputs": [],
   "source": [
    "cnc.alarm_soft_reset()"
   ]
  },
  {
   "cell_type": "code",
   "execution_count": null,
   "id": "eb201f26",
   "metadata": {},
   "outputs": [],
   "source": [
    "cnc.alarm_clear()"
   ]
  },
  {
   "cell_type": "code",
   "execution_count": null,
   "id": "64b8439c",
   "metadata": {},
   "outputs": [],
   "source": [
    "cnc.status()"
   ]
  },
  {
   "cell_type": "code",
   "execution_count": null,
   "id": "4ad2b959",
   "metadata": {},
   "outputs": [],
   "source": [
    "cnc.home()"
   ]
  },
  {
   "cell_type": "code",
   "execution_count": null,
   "id": "ade07987",
   "metadata": {},
   "outputs": [],
   "source": [
    "cnc.metric()\n",
    "cnc.absolute()"
   ]
  },
  {
   "cell_type": "code",
   "execution_count": null,
   "id": "d4b1892a",
   "metadata": {},
   "outputs": [],
   "source": [
    "cnc.travel(115,35,100,33)"
   ]
  },
  {
   "cell_type": "code",
   "execution_count": null,
   "id": "6d6877f0",
   "metadata": {},
   "outputs": [],
   "source": [
    "cnc.set_position(0,0,0,0)"
   ]
  },
  {
   "cell_type": "code",
   "execution_count": null,
   "id": "ab76b175",
   "metadata": {},
   "outputs": [],
   "source": [
    "cnc.travel(0,0,0,0)"
   ]
  },
  {
   "cell_type": "code",
   "execution_count": null,
   "id": "a4e3934b",
   "metadata": {},
   "outputs": [],
   "source": [
    "cnc.absolute()"
   ]
  },
  {
   "cell_type": "code",
   "execution_count": null,
   "id": "7fee2ad0",
   "metadata": {},
   "outputs": [],
   "source": [
    "cnc.set_position(0,0,0,0)"
   ]
  },
  {
   "cell_type": "code",
   "execution_count": null,
   "id": "2c8be76e",
   "metadata": {},
   "outputs": [],
   "source": [
    "cnc.travel(0,0,0,0)"
   ]
  },
  {
   "cell_type": "code",
   "execution_count": null,
   "id": "d6ff8140",
   "metadata": {},
   "outputs": [],
   "source": [
    "cnc.send_g1_commands(commands)"
   ]
  },
  {
   "cell_type": "code",
   "execution_count": null,
   "id": "fae723a1",
   "metadata": {},
   "outputs": [],
   "source": [
    "cnc.travel(0,0,0,0)"
   ]
  }
 ],
 "metadata": {
  "kernelspec": {
   "display_name": ".venv",
   "language": "python",
   "name": "python3"
  },
  "language_info": {
   "codemirror_mode": {
    "name": "ipython",
    "version": 3
   },
   "file_extension": ".py",
   "mimetype": "text/x-python",
   "name": "python",
   "nbconvert_exporter": "python",
   "pygments_lexer": "ipython3",
   "version": "3.13.4"
  }
 },
 "nbformat": 4,
 "nbformat_minor": 5
}
