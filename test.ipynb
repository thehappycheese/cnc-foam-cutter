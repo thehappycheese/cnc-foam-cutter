{
 "cells": [
  {
   "cell_type": "code",
   "execution_count": 1,
   "id": "aaa10406",
   "metadata": {},
   "outputs": [],
   "source": [
    "from util.serial import CNC\n",
    "import pandas as pd\n",
    "import numpy as np\n",
    "import time"
   ]
  },
  {
   "cell_type": "code",
   "execution_count": 2,
   "id": "7276570b",
   "metadata": {},
   "outputs": [
    {
     "name": "stdout",
     "output_type": "stream",
     "text": [
      "\n"
     ]
    }
   ],
   "source": [
    "cnc = CNC(\"socket://fluidnc.local:23\")"
   ]
  },
  {
   "cell_type": "code",
   "execution_count": 6,
   "id": "dc4fc11d",
   "metadata": {},
   "outputs": [
    {
     "data": {
      "text/plain": [
       "'[MSG:INFO: Caution: Unlocked]\\r\\nok\\r\\n'"
      ]
     },
     "execution_count": 6,
     "metadata": {},
     "output_type": "execute_result"
    }
   ],
   "source": [
    "cnc.writeln(\"$X\")"
   ]
  },
  {
   "cell_type": "code",
   "execution_count": 10,
   "id": "ef6ddfb9",
   "metadata": {},
   "outputs": [
    {
     "data": {
      "text/plain": [
       "'<Idle|MPos:0.000,0.000,0.000,0.000|FS:0,0|WCO:150.000,149.996,150.000,149.996>'"
      ]
     },
     "execution_count": 10,
     "metadata": {},
     "output_type": "execute_result"
    }
   ],
   "source": [
    "cnc.alarm_clear()\n",
    "cnc.status()"
   ]
  },
  {
   "cell_type": "code",
   "execution_count": 11,
   "id": "bb5e6fcc",
   "metadata": {},
   "outputs": [
    {
     "data": {
      "text/plain": [
       "''"
      ]
     },
     "execution_count": 11,
     "metadata": {},
     "output_type": "execute_result"
    }
   ],
   "source": [
    "cnc.home()"
   ]
  },
  {
   "cell_type": "code",
   "execution_count": 12,
   "id": "68f3bc8a",
   "metadata": {},
   "outputs": [
    {
     "data": {
      "text/plain": [
       "'[MSG:Homed:XYZA]\\r\\nok\\r\\nok\\r\\n'"
      ]
     },
     "execution_count": 12,
     "metadata": {},
     "output_type": "execute_result"
    }
   ],
   "source": [
    "cnc.writeln(\"G91 G21 F1000 X100 Y30 Z100 A30\")"
   ]
  },
  {
   "cell_type": "code",
   "execution_count": 7,
   "id": "544adece",
   "metadata": {},
   "outputs": [
    {
     "data": {
      "text/plain": [
       "'ok\\r\\n'"
      ]
     },
     "execution_count": 7,
     "metadata": {},
     "output_type": "execute_result"
    }
   ],
   "source": [
    "cnc.writeln(\"G92 X0 Y0 Z0 A0\")"
   ]
  },
  {
   "cell_type": "code",
   "execution_count": 8,
   "id": "718f335e",
   "metadata": {},
   "outputs": [
    {
     "data": {
      "text/plain": [
       "'ok\\r\\n'"
      ]
     },
     "execution_count": 8,
     "metadata": {},
     "output_type": "execute_result"
    }
   ],
   "source": [
    "cnc.absolute()"
   ]
  },
  {
   "cell_type": "code",
   "execution_count": 9,
   "id": "2b824987",
   "metadata": {},
   "outputs": [],
   "source": [
    "df = pd.read_parquet(\"./data/cut_paths/01_100mm_test.parquet\")"
   ]
  },
  {
   "cell_type": "code",
   "execution_count": 10,
   "id": "c12705e0",
   "metadata": {},
   "outputs": [
    {
     "name": "stdout",
     "output_type": "stream",
     "text": [
      "Timeout waiting for 'ok' after command: G1 F300 X31.832159384643283 Y21.343152829636324 Z31.832159384643283 A21.343152829636324\n",
      "Timeout waiting for 'ok' after command: G1 F300 X32.247898066354836 Y21.194399150748172 Z32.247898066354836 A21.194399150748172\n",
      "Timeout waiting for 'ok' after command: G1 F300 X32.6470544424629 Y21.005612244776625 Z32.6470544424629 A21.005612244776625\n"
     ]
    },
    {
     "data": {
      "text/plain": [
       "False"
      ]
     },
     "execution_count": 10,
     "metadata": {},
     "output_type": "execute_result"
    }
   ],
   "source": [
    "cnc.send_g1_xy_commands(df.values, feed=300)"
   ]
  },
  {
   "cell_type": "code",
   "execution_count": 6,
   "id": "a333ea66",
   "metadata": {},
   "outputs": [
    {
     "data": {
      "text/plain": [
       "'ok\\r\\n'"
      ]
     },
     "execution_count": 6,
     "metadata": {},
     "output_type": "execute_result"
    }
   ],
   "source": [
    "# return to zero at max\n",
    "cnc.writeln(\"G0 X0 Y-20 Z0 A-20\")"
   ]
  },
  {
   "cell_type": "code",
   "execution_count": null,
   "id": "32f3eaaa",
   "metadata": {},
   "outputs": [],
   "source": [
    "df = pd.read_pickle(r\"C:\\Users\\guilt\\OneDrive\\2025 04 12 Airplane 3\\data\\airfoils_cache.pickle\")\n",
    "clarky = df.loc[df[\"file_stem\"]==\"clarky-il\",\"points\"].iloc[0]*100\n",
    "clarky = clarky - (clarky.max(axis=0)-clarky.min(axis=0))/2 #+ np.array([200,200]).reshape((-1,2))"
   ]
  },
  {
   "cell_type": "code",
   "execution_count": null,
   "id": "700e89d7",
   "metadata": {},
   "outputs": [],
   "source": [
    "import matplotlib.pyplot as plt\n",
    "plt.plot(clarky[:,0],clarky[:,1])\n",
    "plt.gca().set_aspect(\"equal\")"
   ]
  },
  {
   "cell_type": "code",
   "execution_count": null,
   "id": "0a9fec96",
   "metadata": {},
   "outputs": [],
   "source": [
    "clarky[0]"
   ]
  },
  {
   "cell_type": "code",
   "execution_count": null,
   "id": "062623b8",
   "metadata": {},
   "outputs": [],
   "source": [
    "cnc.send_g1_xy_commands([(float(i[0]),float(i[1])) for i in clarky])"
   ]
  },
  {
   "cell_type": "code",
   "execution_count": null,
   "id": "c98975a6",
   "metadata": {},
   "outputs": [],
   "source": [
    "cnc.writeln(\"G1 X0 Y0 Z0 A0\")"
   ]
  },
  {
   "cell_type": "code",
   "execution_count": null,
   "id": "f6f6fba7",
   "metadata": {},
   "outputs": [],
   "source": []
  }
 ],
 "metadata": {
  "kernelspec": {
   "display_name": ".venv",
   "language": "python",
   "name": "python3"
  },
  "language_info": {
   "codemirror_mode": {
    "name": "ipython",
    "version": 3
   },
   "file_extension": ".py",
   "mimetype": "text/x-python",
   "name": "python",
   "nbconvert_exporter": "python",
   "pygments_lexer": "ipython3",
   "version": "3.13.3"
  }
 },
 "nbformat": 4,
 "nbformat_minor": 5
}
