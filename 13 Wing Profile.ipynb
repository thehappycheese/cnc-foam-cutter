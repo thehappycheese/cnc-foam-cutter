{
 "cells": [
  {
   "cell_type": "code",
   "execution_count": null,
   "id": "c5c2514e",
   "metadata": {},
   "outputs": [],
   "source": [
    "import numpy as np\n",
    "import matplotlib.pyplot as plt\n",
    "from airfoil.wing import wing_cube_loading, compound_dihedral_rise"
   ]
  },
  {
   "cell_type": "code",
   "execution_count": null,
   "id": "6a815c09",
   "metadata": {},
   "outputs": [],
   "source": [
    "aspect_ratio = 12\n",
    "chord = 200\n",
    "\n",
    "wing_span = aspect_ratio * chord\n",
    "half_span = wing_span/2\n",
    "\n",
    "sweep = 3\n",
    "dihedral = 5\n",
    "\n",
    "compound_break = 0.6666 * half_span\n",
    "compound_dihedral = 15"
   ]
  },
  {
   "cell_type": "code",
   "execution_count": null,
   "id": "463978f6",
   "metadata": {},
   "outputs": [],
   "source": [
    "x_b = np.linspace(-half_span,half_span)\n",
    "y_b = compound_dihedral_rise(\n",
    "    x_b,\n",
    "    dihedral=dihedral,\n",
    "    compound_dihedral=compound_dihedral,\n",
    "    compound_break = compound_break)\n",
    "plt.plot(x_b, y_b)\n",
    "plt.gca().set_aspect(\"equal\")"
   ]
  },
  {
   "cell_type": "code",
   "execution_count": null,
   "id": "16da7fdd",
   "metadata": {},
   "outputs": [],
   "source": []
  },
  {
   "cell_type": "code",
   "execution_count": null,
   "id": "050c0a78",
   "metadata": {},
   "outputs": [],
   "source": [
    "wing_cube_loading(\n",
    "    weight = 1.4, # kg\n",
    "    area   = (wing_span*chord)/1000**2\n",
    ")"
   ]
  },
  {
   "cell_type": "code",
   "execution_count": null,
   "id": "0c3afb7e",
   "metadata": {},
   "outputs": [],
   "source": []
  }
 ],
 "metadata": {
  "kernelspec": {
   "display_name": ".venv",
   "language": "python",
   "name": "python3"
  },
  "language_info": {
   "codemirror_mode": {
    "name": "ipython",
    "version": 3
   },
   "file_extension": ".py",
   "mimetype": "text/x-python",
   "name": "python",
   "nbconvert_exporter": "python",
   "pygments_lexer": "ipython3",
   "version": "3.13.3"
  }
 },
 "nbformat": 4,
 "nbformat_minor": 5
}
