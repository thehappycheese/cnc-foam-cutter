{
 "cells": [
  {
   "cell_type": "code",
   "execution_count": null,
   "id": "1385dd3b",
   "metadata": {},
   "outputs": [],
   "source": [
    "import pandas as pd\n",
    "import numpy as np\n",
    "import matplotlib.pyplot as plt\n",
    "from airfoil.airfoil import Airfoil, Hole, WingSegment, Decomposer, Hinge\n",
    "from airfoil.spitfire import SpitfireWing\n",
    "from airfoil.machine_setup import MachineSetup\n",
    "from itertools import pairwise"
   ]
  },
  {
   "cell_type": "code",
   "execution_count": null,
   "id": "767a0937",
   "metadata": {},
   "outputs": [],
   "source": [
    "wing = SpitfireWing(half_span=500)\n",
    "section_positions = np.array([\n",
    "    0,\n",
    "    100,\n",
    "    200,\n",
    "    300,\n",
    "    400,\n",
    "    450,\n",
    "])\n",
    "airfoils = wing.create_airfoils(section_positions)\n",
    "\n",
    "wing.plot(section_positions=section_positions)"
   ]
  },
  {
   "cell_type": "code",
   "execution_count": null,
   "id": "c2959ad0",
   "metadata": {},
   "outputs": [],
   "source": [
    "chunks_a, chunks_b = [*pairwise(airfoils)], [*reversed([*pairwise(reversed(airfoils))])]\n",
    "\n",
    "def add_holes(afs:tuple[Airfoil,Airfoil])->tuple[Airfoil,Airfoil]:\n",
    "    holes = [\n",
    "        Hole(diameter_mm=5, position=np.array([ -40,8])),\n",
    "        Hole(diameter_mm=5, position=np.array([  10,8])),\n",
    "    ]\n",
    "    a, b = afs\n",
    "    a = a.with_holes(holes)\n",
    "    b = b.with_holes(holes)\n",
    "    return a, b\n",
    "\n",
    "def add_airleron(\n",
    "        afs:tuple[Airfoil,Airfoil],\n",
    "        xp1:float,\n",
    "        xp2:float,\n",
    "        upper_thickness:float=2,\n",
    "    )->tuple[Airfoil,Airfoil]:\n",
    "    a, b = afs\n",
    "    a = a.with_hinge(\n",
    "        Hinge(position=[xp1, 0]),\n",
    "        upper_thickness=upper_thickness\n",
    "    )\n",
    "    b = b.with_hinge(\n",
    "        Hinge(position=[xp2, 0]),\n",
    "        upper_thickness=upper_thickness\n",
    "    )\n",
    "    return a, b\n",
    "\n",
    "\n",
    "chunks_a[0] = add_holes(chunks_a[0])\n",
    "chunks_b[0] = add_holes(chunks_b[0])\n",
    "chunks_a[-1] = add_airleron(chunks_a[-1], wing.flap_line(400),wing.flap_line(450))\n",
    "chunks_a[-2] = add_airleron(chunks_a[-2], wing.flap_line(300),wing.flap_line(400))\n",
    "chunks_b[-1] = add_airleron(chunks_b[-1], wing.flap_line(450),wing.flap_line(400))\n",
    "chunks_b[-2] = add_airleron(chunks_b[-2], wing.flap_line(400),wing.flap_line(300))\n",
    "airfoil_pairs_a:list[WingSegment] = [\n",
    "    WingSegment(a, b, length=length)\n",
    "    for (a, b), length\n",
    "    in zip(\n",
    "        chunks_a,\n",
    "        np.diff(section_positions)\n",
    "    )\n",
    "]\n",
    "airfoil_pairs_b:list[WingSegment] = [\n",
    "    WingSegment(a, b, length=length)\n",
    "    for (a, b), length\n",
    "    in zip(\n",
    "        chunks_b,\n",
    "        np.diff(section_positions)\n",
    "    )\n",
    "]"
   ]
  },
  {
   "cell_type": "code",
   "execution_count": null,
   "id": "7adc0c91",
   "metadata": {},
   "outputs": [],
   "source": [
    "fig, axs = plt.subplots(len(chunks_a+chunks_b),2, figsize=(20,15))\n",
    "for axr, (a,b) in zip(axs,chunks_a+chunks_b):\n",
    "    a.plot(axr[0])\n",
    "    b.plot(axr[1])"
   ]
  },
  {
   "cell_type": "code",
   "execution_count": null,
   "id": "c0c6dfec",
   "metadata": {},
   "outputs": [],
   "source": [
    "import pyvista as pv\n",
    "pt = pv.Plotter()\n",
    "offset = 30\n",
    "for chunk in airfoil_pairs_a:\n",
    "    offset += chunk.length/2\n",
    "    m = chunk.to_mesh()\n",
    "    pt.add_mesh(m.translate((offset,0,0)), opacity=0.5)\n",
    "    offset += chunk.length/2\n",
    "offset = -30\n",
    "for chunk in airfoil_pairs_b:\n",
    "    offset -= chunk.length/2\n",
    "    m = chunk.to_mesh()\n",
    "    pt.add_mesh(m.translate((offset,0,0)), opacity=0.5)\n",
    "    offset -= chunk.length/2\n",
    "pt.show()"
   ]
  },
  {
   "cell_type": "code",
   "execution_count": null,
   "id": "5cdd6d98",
   "metadata": {},
   "outputs": [],
   "source": [
    "from itertools import chain, repeat, count\n",
    "foam_cut_list = []\n",
    "for side, wing_segment in chain(\n",
    "        zip(\n",
    "            repeat(\"A\"),\n",
    "            airfoil_pairs_a\n",
    "        ),\n",
    "        zip(\n",
    "            repeat(\"B\"),\n",
    "            airfoil_pairs_b\n",
    "        )\n",
    "    ):\n",
    "    bounds = wing_segment.to_mesh().bounds\n",
    "    foam_cut_list.append({\n",
    "        \"side\"            : side,\n",
    "        \"foam_width_mm\"  : bounds.x_max-bounds.x_min,\n",
    "        \"foam_depth_mm\": np.ceil((bounds.y_max-bounds.y_min + 10)/10)*10,\n",
    "        \"foam_height_mm\"    : 30 if (bounds.z_max-bounds.z_min) < 30 else 50,\n",
    "        \"wing_segment\"    : wing_segment,\n",
    "    })\n",
    "segments = pd.DataFrame(foam_cut_list)\n",
    "segments"
   ]
  },
  {
   "cell_type": "code",
   "execution_count": null,
   "id": "2f840014",
   "metadata": {},
   "outputs": [],
   "source": [
    "# seg = 0 # done\n",
    "# seg = 1 # done\n",
    "# seg = 2 # done\n",
    "# seg = 3 # done\n",
    "# seg = 4 # done\n",
    "# seg = 5 # done\n",
    "# seg = 6 # done\n",
    "# seg = 7 # done\n",
    "# seg = 8 # done\n",
    "\n",
    "seg = 9\n",
    "\n",
    "ms = MachineSetup(\n",
    "    wing_segment = segments.loc[seg, \"wing_segment\"  ],\n",
    "    foam_width   = segments.loc[seg, \"foam_width_mm\" ],\n",
    "    foam_depth   = segments.loc[seg, \"foam_depth_mm\" ],\n",
    "    foam_height  = segments.loc[seg, \"foam_height_mm\"],\n",
    "    plane_spacing= 227,\n",
    "    decomposer=Decomposer(buffer=0.5, segment_target_length=1),\n",
    "    max_cut_speed_mm_s=240,\n",
    "    min_cut_speed_mm_s=130,\n",
    "    travel_speed=1000\n",
    ").with_recentered_part()\n",
    "\n",
    "print(\n",
    "    f'please configure machine as shown:\\n   Foam '\n",
    "    f'{segments.loc[seg, \"foam_width_mm\" ]:.0f} x '\n",
    "    f'{segments.loc[seg, \"foam_depth_mm\" ]:.0f} x '\n",
    "    f'{segments.loc[seg, \"foam_height_mm\"]:.0f} mm'\n",
    "    f'\\n   Plane spacing: {ms.plane_spacing:.0f} mm'\n",
    ")\n",
    "state = np.array([0,0,0,0])\n",
    "ms.plot(state)\n",
    "None"
   ]
  },
  {
   "cell_type": "code",
   "execution_count": null,
   "id": "c43f73e8",
   "metadata": {},
   "outputs": [],
   "source": [
    "from airfoil.util.serial import CNC\n",
    "cnc = CNC()"
   ]
  },
  {
   "cell_type": "code",
   "execution_count": null,
   "id": "94bd27e3",
   "metadata": {},
   "outputs": [],
   "source": [
    "cnc.home()"
   ]
  },
  {
   "cell_type": "code",
   "execution_count": null,
   "id": "0cc903c1",
   "metadata": {},
   "outputs": [],
   "source": [
    "cnc.status()"
   ]
  },
  {
   "cell_type": "code",
   "execution_count": null,
   "id": "beb58d1f",
   "metadata": {},
   "outputs": [],
   "source": [
    "cnc.metric()\n",
    "cnc.set_position(0,0,0,0)\n",
    "cnc.absolute()"
   ]
  },
  {
   "cell_type": "code",
   "execution_count": null,
   "id": "b9708bed",
   "metadata": {},
   "outputs": [],
   "source": [
    "# initial square-up dont change for now\n",
    "cnc.travel(\n",
    "    x=110-50,y=35,\n",
    "    z=99 -50,a=30.5\n",
    ")"
   ]
  },
  {
   "cell_type": "code",
   "execution_count": null,
   "id": "a3a14a0d",
   "metadata": {},
   "outputs": [],
   "source": [
    "# initial square-up dont change for now\n",
    "cnc.travel(\n",
    "    x=0,y=-0.5,\n",
    "    z=0,a=-0.5,\n",
    ")"
   ]
  },
  {
   "cell_type": "code",
   "execution_count": null,
   "id": "d12d9000",
   "metadata": {},
   "outputs": [],
   "source": [
    "cnc.set_position(0,0,0,0)\n",
    "cnc.absolute()"
   ]
  },
  {
   "cell_type": "code",
   "execution_count": null,
   "id": "1983e76a",
   "metadata": {},
   "outputs": [],
   "source": [
    "cnc.travel(\n",
    "    x=0,y=0,\n",
    "    z=0,a=0,\n",
    ")"
   ]
  },
  {
   "cell_type": "code",
   "execution_count": null,
   "id": "117b2ede",
   "metadata": {},
   "outputs": [],
   "source": [
    "cnc.send_g1_commands(ms.instructions(record_name=f\"Segment {seg}\"))"
   ]
  },
  {
   "cell_type": "code",
   "execution_count": null,
   "id": "6cca8636",
   "metadata": {},
   "outputs": [],
   "source": [
    "cnc.travel(\n",
    "    x=0,y=5,\n",
    "    z=0,a=5,\n",
    ")\n",
    "cnc.travel(\n",
    "    x=0,y=0,\n",
    "    z=0,a=0,\n",
    ")"
   ]
  }
 ],
 "metadata": {
  "kernelspec": {
   "display_name": ".venv",
   "language": "python",
   "name": "python3"
  },
  "language_info": {
   "codemirror_mode": {
    "name": "ipython",
    "version": 3
   },
   "file_extension": ".py",
   "mimetype": "text/x-python",
   "name": "python",
   "nbconvert_exporter": "python",
   "pygments_lexer": "ipython3",
   "version": "3.13.3"
  }
 },
 "nbformat": 4,
 "nbformat_minor": 5
}
