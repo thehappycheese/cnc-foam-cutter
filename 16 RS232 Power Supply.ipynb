{
 "cells": [
  {
   "cell_type": "code",
   "execution_count": null,
   "id": "098ca872",
   "metadata": {},
   "outputs": [],
   "source": [
    "import serial\n",
    "import time\n",
    "import numpy as np\n",
    "from airfoil.cnc import CNC\n",
    "from airfoil.util.path_planning import compensate_feedrate\n",
    "from airfoil.power_supply import KORAD_KD3005P\n",
    "import pandas as pd"
   ]
  },
  {
   "cell_type": "code",
   "execution_count": null,
   "id": "33ef969d",
   "metadata": {},
   "outputs": [],
   "source": [
    "import winsound\n",
    "def bep(f:float=0.0,ms:int=500):\n",
    "    winsound.Beep(int(440 * 2.0**(f/12.0)),ms)"
   ]
  },
  {
   "cell_type": "code",
   "execution_count": null,
   "id": "92d81494",
   "metadata": {},
   "outputs": [],
   "source": [
    "cnc = CNC()"
   ]
  },
  {
   "cell_type": "code",
   "execution_count": null,
   "id": "182437fc",
   "metadata": {},
   "outputs": [],
   "source": [
    "cnc.home()\n",
    "cnc.metric()\n",
    "cnc.absolute()"
   ]
  },
  {
   "cell_type": "code",
   "execution_count": null,
   "id": "0a232d5f",
   "metadata": {},
   "outputs": [],
   "source": [
    "cnc.travel(100,50,100,50)"
   ]
  },
  {
   "cell_type": "code",
   "execution_count": null,
   "id": "891da854",
   "metadata": {},
   "outputs": [],
   "source": [
    "cnc.set_position(0,0,0,0)\n",
    "cnc.metric()\n",
    "cnc.absolute()"
   ]
  },
  {
   "cell_type": "code",
   "execution_count": null,
   "id": "dacd8047",
   "metadata": {},
   "outputs": [],
   "source": [
    "ps = KORAD_KD3005P(\"COM11\")"
   ]
  },
  {
   "cell_type": "code",
   "execution_count": null,
   "id": "84477357",
   "metadata": {},
   "outputs": [],
   "source": [
    "ps.status()"
   ]
  },
  {
   "cell_type": "code",
   "execution_count": null,
   "id": "393b9f7c",
   "metadata": {},
   "outputs": [],
   "source": [
    "ps.output_off()"
   ]
  },
  {
   "cell_type": "code",
   "execution_count": null,
   "id": "e7409084",
   "metadata": {},
   "outputs": [],
   "source": [
    "cnc.travel(0,0,0,0)"
   ]
  },
  {
   "cell_type": "code",
   "execution_count": null,
   "id": "ac09d134",
   "metadata": {},
   "outputs": [],
   "source": [
    "TIME = 10\n",
    "SAMPLES = 20\n",
    "DISTANCE = 30\n",
    "IMIN = 1.5\n",
    "IMAX = 2.5\n",
    "FEED = compensate_feedrate(1,0,1,0) * DISTANCE/(TIME/60)\n",
    "print(f\"\"\"\n",
    "    {TIME=:.2f}\n",
    "    TARGET_FEED={DISTANCE/(TIME/60):.2f}\n",
    "    {FEED=:.2f}\n",
    "    {TIME/SAMPLES=:.2f}\n",
    "\"\"\")"
   ]
  },
  {
   "cell_type": "code",
   "execution_count": null,
   "id": "fd1b1f74",
   "metadata": {},
   "outputs": [],
   "source": [
    "cuts = 10\n",
    "spacing = 4\n",
    "Imin = 1.5\n",
    "Imax = 2.5\n",
    "target_feed_rate = 200\n",
    "compensated_feedrate = compensate_feedrate(1,0,1,0) * target_feed_rate\n",
    "start_positions = np.arange(cuts)*spacing\n",
    "currents = np.linspace(Imin,Imax, cuts)\n",
    "depth = 15\n",
    "print(f\"\"\"\n",
    "    height = {start_positions[-1]:.0f}\n",
    "    {target_feed_rate = :.0f}\n",
    "    {compensated_feedrate = :.1f}\n",
    "    [{\", \".join(f\"{f:.2f}\" for f in currents)}]\n",
    "\"\"\")\n"
   ]
  },
  {
   "cell_type": "code",
   "execution_count": null,
   "id": "3bebf34e",
   "metadata": {},
   "outputs": [],
   "source": [
    "bep(13)\n",
    "ps.output_on()\n",
    "for current, start_position in reversed(list(zip(currents,start_positions))):\n",
    "    cnc.absolute()\n",
    "    cnc.serial.read_until(\"ok\\r\\n\")\n",
    "    ps.set_current(current)\n",
    "    time.sleep(0.050)\n",
    "    bep(12)\n",
    "    cnc.travel(0,start_position,0,start_position)\n",
    "    cnc.serial.read_until(\"ok\\r\\n\")\n",
    "    cnc.relative()\n",
    "    cnc.serial.read_until(\"ok\\r\\n\")\n",
    "    cnc.feed(compensated_feedrate,10,0,10,0)\n",
    "    cnc.serial.read_until(\"ok\\r\\n\")\n",
    "    bep(11)\n",
    "    ps.set_current(1.0)\n",
    "    cnc.feed(compensated_feedrate,-10,0,-10,0)\n",
    "    cnc.serial.read_until(\"ok\\r\\n\")\n",
    "ps.output_off()\n",
    "bep(10)"
   ]
  },
  {
   "cell_type": "code",
   "execution_count": null,
   "id": "5a421776",
   "metadata": {},
   "outputs": [],
   "source": [
    "cnc.alarm_soft_reset()"
   ]
  },
  {
   "cell_type": "code",
   "execution_count": null,
   "id": "e8a6f0c0",
   "metadata": {},
   "outputs": [],
   "source": [
    "ps.output_off()"
   ]
  },
  {
   "cell_type": "code",
   "execution_count": null,
   "id": "26d0bd5c",
   "metadata": {},
   "outputs": [],
   "source": [
    "cnc.travel(0,0,0,0)"
   ]
  },
  {
   "cell_type": "code",
   "execution_count": null,
   "id": "6264306b",
   "metadata": {},
   "outputs": [],
   "source": [
    "np.linspace(200,300)\n",
    "cnc.relative()\n",
    "cnc.feed(FEED,10,)"
   ]
  },
  {
   "cell_type": "code",
   "execution_count": null,
   "id": "9da7c73c",
   "metadata": {},
   "outputs": [],
   "source": [
    "capture = []"
   ]
  },
  {
   "cell_type": "code",
   "execution_count": null,
   "id": "9b135466",
   "metadata": {},
   "outputs": [],
   "source": [
    "ps.set_current(1.0)\n",
    "time.sleep(0.1)\n",
    "bep(13)\n",
    "ps.output_on()\n",
    "time.sleep(0.2)\n",
    "capture.append(ps.status())\n",
    "time.sleep(0.1)\n",
    "ps.output_off()\n",
    "bep(10)\n",
    "pd.DataFrame.from_records(capture)"
   ]
  },
  {
   "cell_type": "code",
   "execution_count": null,
   "id": "90ecba38",
   "metadata": {},
   "outputs": [],
   "source": [
    "time.sleep(3)\n",
    "bep(10)\n",
    "ps.set_voltage(15)\n",
    "time.sleep(0.050)\n",
    "\n",
    "ps.set_current(IMIN)\n",
    "time.sleep(0.050)\n",
    "\n",
    "time.sleep(3)\n",
    "bep(13)\n",
    "ps.output_on()\n",
    "time.sleep(0.050)\n",
    "cnc.feed(FEED,DISTANCE,0,DISTANCE,0)\n",
    "for I in np.linspace(IMIN,IMAX,SAMPLES):\n",
    "    ps.set_current(I)\n",
    "    time.sleep(TIME/SAMPLES)\n",
    "ps.output_off()\n",
    "bep(10)"
   ]
  },
  {
   "cell_type": "markdown",
   "id": "0398c870",
   "metadata": {},
   "source": [
    "## Falldown Test"
   ]
  },
  {
   "cell_type": "code",
   "execution_count": null,
   "id": "14bd2204",
   "metadata": {},
   "outputs": [],
   "source": [
    "total_time = 8\n",
    "currents = np.linspace(2.5,1.5, 20)\n",
    "interval = total_time/len(currents)\n",
    "interval"
   ]
  },
  {
   "cell_type": "code",
   "execution_count": null,
   "id": "6cf41af3",
   "metadata": {},
   "outputs": [],
   "source": [
    "bep(13)\n",
    "ps.set_voltage(15)\n",
    "time.sleep(0.050)\n",
    "ps.set_current(0.1)\n",
    "time.sleep(0.050)\n",
    "ps.output_on()\n",
    "time.sleep(0.050)\n",
    "for current,note in zip(currents,np.arange(len(currents))):\n",
    "    ps.set_current(current)\n",
    "    bep(14+note, int(interval*1000))\n",
    "ps.output_off()\n",
    "bep(10)"
   ]
  },
  {
   "cell_type": "code",
   "execution_count": null,
   "id": "d06c9116",
   "metadata": {},
   "outputs": [],
   "source": [
    "ps.output_off()"
   ]
  },
  {
   "cell_type": "code",
   "execution_count": null,
   "id": "d88dedaf",
   "metadata": {},
   "outputs": [],
   "source": [
    "12/30"
   ]
  },
  {
   "cell_type": "code",
   "execution_count": null,
   "id": "6650769d",
   "metadata": {},
   "outputs": [],
   "source": [
    "[f\"{i:.2f}\" for i in currents]"
   ]
  }
 ],
 "metadata": {
  "kernelspec": {
   "display_name": ".venv",
   "language": "python",
   "name": "python3"
  },
  "language_info": {
   "codemirror_mode": {
    "name": "ipython",
    "version": 3
   },
   "file_extension": ".py",
   "mimetype": "text/x-python",
   "name": "python",
   "nbconvert_exporter": "python",
   "pygments_lexer": "ipython3",
   "version": "3.13.3"
  }
 },
 "nbformat": 4,
 "nbformat_minor": 5
}
