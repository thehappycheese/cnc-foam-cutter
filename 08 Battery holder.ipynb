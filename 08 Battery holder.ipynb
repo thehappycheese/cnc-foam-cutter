{
 "cells": [
  {
   "cell_type": "code",
   "execution_count": null,
   "id": "39021dcf",
   "metadata": {},
   "outputs": [],
   "source": [
    "from airfoil.util.shapely_helpers import plot_shapely_directional\n",
    "from airfoil.util.linestring_helpers import (\n",
    "    deflection_angle_padded,\n",
    "    resample_long_segments,\n",
    ")\n",
    "from airfoil.util.array_helpers import map_to_range\n",
    "from functools import reduce\n",
    "from shapely import box, difference, union, Point\n",
    "from shapely.affinity import translate, scale\n",
    "import numpy as np\n",
    "\n",
    "import matplotlib.pyplot as plt"
   ]
  },
  {
   "cell_type": "code",
   "execution_count": null,
   "id": "0db4f179",
   "metadata": {},
   "outputs": [],
   "source": [
    "bw=24\n",
    "bh=43\n",
    "\n",
    "ox = -10\n",
    "oc = 20\n",
    "\n",
    "w = 65.5\n",
    "h = 28.3\n",
    "\n",
    "f = difference(\n",
    "    box(\n",
    "        -w/2,-h,\n",
    "         w/2, 0,\n",
    "    ),\n",
    "    reduce(union,[\n",
    "        box(\n",
    "            -bw/2+ox,-bh/2,\n",
    "             bw/2+ox, bh/2,\n",
    "        ),\n",
    "        Point(-bw/2+ox,-bh/2).buffer(0.8, quad_segs=3),\n",
    "        Point( bw/2+ox,-bh/2).buffer(0.8, quad_segs=3),\n",
    "        Point(oc,0).buffer(16/2, quad_segs=8)\n",
    "    ])\n",
    ")\n",
    "f = scale(f,-1,1)\n",
    "f=translate(f, w/2, 0)\n",
    "plot_shapely_directional([f])"
   ]
  },
  {
   "cell_type": "code",
   "execution_count": null,
   "id": "263ed3c3",
   "metadata": {},
   "outputs": [],
   "source": [
    "c = np.array(f.exterior.coords)[4:-1]\n",
    "c[c[:,1]==c[:,1].max(),1]+=2\n",
    "c = resample_long_segments(c,1)\n",
    "fig,ax = plt.subplots()\n",
    "\n",
    "ax.plot(*c.T,\"-o\")\n",
    "ax.set_aspect(\"equal\")"
   ]
  },
  {
   "cell_type": "code",
   "execution_count": null,
   "id": "e46ac294",
   "metadata": {},
   "outputs": [],
   "source": [
    "speed = map_to_range(deflection_angle_padded(c),250,100)\n",
    "\n",
    "lead_in = np.array([\n",
    "    [-20,  0],\n",
    "    [-20, 50],\n",
    "    [  0, 50],\n",
    "    [c[0,0], c[0,1]+1],\n",
    "])\n",
    "\n",
    "lead_out = np.array([\n",
    "    [c[-1,0], c[-1,1]+1],\n",
    "    [c[-1,0], c[-1,1] + 20]\n",
    "])\n",
    "lead_in  = resample_long_segments(lead_in,1)\n",
    "lead_out = resample_long_segments(lead_out,1)\n",
    "\n",
    "commands = np.concat([\n",
    "    np.insert(np.tile(lead_in , 2), 0,   500, axis=-1),\n",
    "    np.insert(np.tile(c       , 2), 0, speed, axis=-1),\n",
    "    np.insert(np.tile(lead_out, 2), 0,   500, axis=-1),\n",
    "])"
   ]
  },
  {
   "cell_type": "code",
   "execution_count": null,
   "id": "eef398a3",
   "metadata": {},
   "outputs": [],
   "source": [
    "from matplotlib.collections import LineCollection\n",
    "def plot_feedrate_path(data, title=\"Feed Rate Path\", figsize=(10, 8)):\n",
    "    \"\"\"\n",
    "    Plot a path with line segments colored by feed rate.\n",
    "    \n",
    "    Parameters:\n",
    "    -----------\n",
    "    data : numpy.ndarray\n",
    "        Array of shape (n, 3) where each row is (s, x, y)\n",
    "        s = feed rate for the next line segment\n",
    "        x, y = coordinates\n",
    "    title : str, optional\n",
    "        Title for the plot\n",
    "    figsize : tuple, optional\n",
    "        Figure size (width, height)\n",
    "    \n",
    "    Returns:\n",
    "    --------\n",
    "    fig, ax : matplotlib figure and axes objects\n",
    "    \"\"\"\n",
    "    \n",
    "    if data.shape[1] != 3:\n",
    "        raise ValueError(\"Data must have shape (n, 3) with columns (s, x, y)\")\n",
    "    \n",
    "    # Extract components\n",
    "    feed_rates = data[:, 0]\n",
    "    x_coords = data[:, 1]\n",
    "    y_coords = data[:, 2]\n",
    "    \n",
    "    # Create figure and axis\n",
    "    fig, ax = plt.subplots(figsize=figsize)\n",
    "    \n",
    "    # Create line segments for coloring\n",
    "    # Each segment connects consecutive points\n",
    "    points = np.column_stack([x_coords, y_coords])\n",
    "    segments = np.array([points[:-1], points[1:]]).transpose(1, 0, 2)\n",
    "    \n",
    "    # Use feed rates for coloring (excluding the last point since it doesn't have a \"next\" segment)\n",
    "    colors = feed_rates[:-1]\n",
    "    \n",
    "    # Create LineCollection with viridis colormap\n",
    "    lc = LineCollection(segments, cmap='viridis', linewidths=2)\n",
    "    lc.set_array(colors)\n",
    "    \n",
    "    # Add the line collection to the plot\n",
    "    line = ax.add_collection(lc)\n",
    "    \n",
    "    # Add scatter plot for points\n",
    "    scatter = ax.scatter(x_coords, y_coords, c=feed_rates, cmap='viridis', \n",
    "                        s=30, edgecolors='black', linewidth=0.5, zorder=5)\n",
    "    \n",
    "    # Add colorbar\n",
    "    cbar = plt.colorbar(line, ax=ax)\n",
    "    cbar.set_label('Feed Rate (s)', rotation=270, labelpad=20)\n",
    "    \n",
    "    # Set labels and title\n",
    "    ax.set_xlabel('X Coordinate')\n",
    "    ax.set_ylabel('Y Coordinate')\n",
    "    ax.set_title(title)\n",
    "    \n",
    "    # Set equal aspect ratio for better visualization\n",
    "    ax.set_aspect('equal', adjustable='box')\n",
    "    \n",
    "    # Add grid\n",
    "    ax.grid(True, alpha=0.3)\n",
    "    \n",
    "    # Adjust layout\n",
    "    plt.tight_layout()\n",
    "    \n",
    "    return fig, ax"
   ]
  },
  {
   "cell_type": "code",
   "execution_count": null,
   "id": "85a05dc3",
   "metadata": {},
   "outputs": [],
   "source": [
    "plot_feedrate_path(commands[:,:3])"
   ]
  },
  {
   "cell_type": "code",
   "execution_count": null,
   "id": "cda5f60f",
   "metadata": {},
   "outputs": [],
   "source": [
    "from airfoil.cnc import CNC\n",
    "cnc=CNC()"
   ]
  },
  {
   "cell_type": "code",
   "execution_count": null,
   "id": "9f63288f",
   "metadata": {},
   "outputs": [],
   "source": [
    "cnc.metric()\n",
    "cnc.absolute()\n",
    "cnc.home()\n",
    "cnc.set_position(0,0,0,0)"
   ]
  },
  {
   "cell_type": "code",
   "execution_count": null,
   "id": "7d432015",
   "metadata": {},
   "outputs": [],
   "source": [
    "cnc.travel(\n",
    "    x=110,y=25,\n",
    "    z=100,a=25\n",
    ")"
   ]
  },
  {
   "cell_type": "code",
   "execution_count": null,
   "id": "ea276d8b",
   "metadata": {},
   "outputs": [],
   "source": [
    "cnc.set_position(0,0,0,0)\n",
    "cnc.absolute()"
   ]
  },
  {
   "cell_type": "code",
   "execution_count": null,
   "id": "3871e224",
   "metadata": {},
   "outputs": [],
   "source": [
    "cnc.travel(0,12,0,12)"
   ]
  },
  {
   "cell_type": "code",
   "execution_count": null,
   "id": "845b2c78",
   "metadata": {},
   "outputs": [],
   "source": [
    "cnc.feed(250,-80,0,-80,0)"
   ]
  },
  {
   "cell_type": "code",
   "execution_count": null,
   "id": "44697da6",
   "metadata": {},
   "outputs": [],
   "source": [
    "cnc.send_g1_commands(commands)"
   ]
  },
  {
   "cell_type": "code",
   "execution_count": null,
   "id": "d12ff47b",
   "metadata": {},
   "outputs": [],
   "source": []
  }
 ],
 "metadata": {
  "kernelspec": {
   "display_name": ".venv",
   "language": "python",
   "name": "python3"
  },
  "language_info": {
   "codemirror_mode": {
    "name": "ipython",
    "version": 3
   },
   "file_extension": ".py",
   "mimetype": "text/x-python",
   "name": "python",
   "nbconvert_exporter": "python",
   "pygments_lexer": "ipython3",
   "version": "3.13.4"
  }
 },
 "nbformat": 4,
 "nbformat_minor": 5
}
